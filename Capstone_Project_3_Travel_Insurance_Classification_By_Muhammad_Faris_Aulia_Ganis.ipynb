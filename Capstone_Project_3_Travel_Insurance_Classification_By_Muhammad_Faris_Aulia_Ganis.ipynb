{
 "cells": [
  {
   "attachments": {},
   "cell_type": "markdown",
   "metadata": {},
   "source": [
    "# TRAVEL INSURANCE CLAIM BY MUHAMMAD FARIS AULIA GANIS"
   ]
  },
  {
   "attachments": {},
   "cell_type": "markdown",
   "metadata": {},
   "source": [
    "## BUSINESS PROBLEM"
   ]
  },
  {
   "attachments": {},
   "cell_type": "markdown",
   "metadata": {},
   "source": [
    "**Context**\n",
    "\n",
    "Travel insurance is a type of insurance that provides protection as long as we travel both domestically and abroad. Several countries have even required travelers to have travel insurance, for example, countries in Europe and America. The amount of premium depends on the coverage desired, the length of the trip, and the purpose of the trip. A company engaged in travel insurance wants to know the policyholder who will submit an insurance claim for coverage. Policyholder data at insurance companies is historical data consisting of destinations, insurance products, and so on.\n",
    "\n",
    "Insurance companies base their business around assuming and diversifying risk. They generate revenue by charging premiums then investing those premiums in other interest generating assets. \n",
    "\n",
    "To make profit insurance companies ensure that the premiums that they charge are greater than any future claims.\n",
    "\n",
    "Target :</br>\n",
    "0 : Did not claimed</br>\n",
    "1 : Claimed\n",
    "\n",
    "Source: <br>\n",
    "https://www.fe.training/free-resources/fig/how-do-insurance-companies-make-money/ <br>\n",
    "https://www.investopedia.com/ask/answers/052015/what-main-business-model-insurance-companies.asp"
   ]
  },
  {
   "attachments": {},
   "cell_type": "markdown",
   "metadata": {},
   "source": [
    "**Problem Statement**\n",
    "\n",
    "A travel insurance company wants to predict which policyholders are likely to submit an insurance claim for coverage, in order to proactively identify and mitigate potential losses."
   ]
  },
  {
   "attachments": {},
   "cell_type": "markdown",
   "metadata": {},
   "source": [
    "**Goals**\n",
    "\n",
    "Using a classification machine learning model, the company can analyze historical policyholder data such as destinations, insurance products, and trip details **to accurately predict which policyholders are at a higher risk of submitting a claim**. This will allow the company to **take preventative measures** to compensate costs of claims and improve overall financial performance."
   ]
  },
  {
   "attachments": {},
   "cell_type": "markdown",
   "metadata": {},
   "source": [
    "**Analytic Approach**\n",
    "\n",
    "Next is to  analyze the data to find patterns from the existing features to differentiate policyholders who made a claim and who did not.\n",
    "\n",
    "Then build a classification model that will help the company to predict if a policyholder will likely submit a claim or not."
   ]
  },
  {
   "attachments": {},
   "cell_type": "markdown",
   "metadata": {},
   "source": [
    "**Metric Evaluation**\n",
    "\n",
    "Based on our goals, the model must be good at predicting policyholders who would make a claim in the future. So in this case we would need to reduce the number of false positive rate, meaning we would be losing more money if the model predicted a policy holder who did not claim but in actuallity they claimed hence precision score will be our evaluation metric.\n",
    "\n",
    "Type 1 error : False Positive  \n",
    "Consequence: The company cannot charge more / extra premiums to a policyholder who in reality made a claim in the future but it predicted \"not going to claim\" by the model. Which means the company loses money.\n",
    "\n",
    "Type 2 error : False Negative  \n",
    "Consequence: Overcharging policyholders who is likely not going to claim in the future. "
   ]
  },
  {
   "attachments": {},
   "cell_type": "markdown",
   "metadata": {},
   "source": [
    "## DATA UNDERSTANDING"
   ]
  },
  {
   "cell_type": "code",
   "execution_count": 280,
   "metadata": {},
   "outputs": [],
   "source": [
    "# Library\n",
    "\n",
    "## Basic Library\n",
    "import pandas as pd\n",
    "import numpy as np\n",
    "import seaborn as sns\n",
    "import matplotlib.pyplot as plt\n",
    "import warnings\n",
    "warnings.filterwarnings('ignore')\n",
    "\n",
    "## Pre Modelling\n",
    "from sklearn.model_selection import train_test_split, cross_val_score, StratifiedKFold, GridSearchCV\n",
    "from sklearn.preprocessing import OneHotEncoder\n",
    "from sklearn.compose import ColumnTransformer\n",
    "import category_encoders as ce\n",
    "from sklearn.pipeline import Pipeline\n",
    "from imblearn.pipeline import Pipeline as imbPipeline\n",
    "\n",
    "## Modelling\n",
    "from sklearn.tree import DecisionTreeClassifier\n",
    "from sklearn.neighbors import KNeighborsClassifier\n",
    "from sklearn.linear_model import LogisticRegression\n",
    "from sklearn.ensemble import RandomForestClassifier\n",
    "\n",
    "## Evaluation\n",
    "from sklearn.metrics import confusion_matrix, precision_score, recall_score, f1_score, accuracy_score, classification_report"
   ]
  },
  {
   "attachments": {},
   "cell_type": "markdown",
   "metadata": {},
   "source": [
    "Note : \n",
    "- Dataset is imbalanced (by looking at the target column value counts below)\n",
    "- Every row of data represent policyholder historical data whether they have claimed the travel insurance or not\n",
    "\n",
    "**Attribute Information**\n",
    "\n",
    "| Attribute | Data Type| Description |\n",
    "| --- | --- | --- |\n",
    "| Agency | object | Name of agency |\n",
    "| Agency Type | object | Type of travel insurance agencies |\n",
    "| Distribution Channel | object | Channel of travel insurance agencies |\n",
    "| Product Name | object | Name of the travel insurance products |\n",
    "| Gender | object | Gender of insured |\n",
    "| Duration | integer | Duration of travel |\n",
    "| Destination | object | Destination of travel |\n",
    "| Net Sales | float | Amount of sales of travel insurance policies |\n",
    "| Commision (in value) | float | Commission received for travel insurance agency |\n",
    "| Age | integer | Age of insured |\n",
    "| Claim | object | Claim status |"
   ]
  },
  {
   "cell_type": "code",
   "execution_count": 281,
   "metadata": {},
   "outputs": [
    {
     "data": {
      "text/html": [
       "<div>\n",
       "<style scoped>\n",
       "    .dataframe tbody tr th:only-of-type {\n",
       "        vertical-align: middle;\n",
       "    }\n",
       "\n",
       "    .dataframe tbody tr th {\n",
       "        vertical-align: top;\n",
       "    }\n",
       "\n",
       "    .dataframe thead th {\n",
       "        text-align: right;\n",
       "    }\n",
       "</style>\n",
       "<table border=\"1\" class=\"dataframe\">\n",
       "  <thead>\n",
       "    <tr style=\"text-align: right;\">\n",
       "      <th></th>\n",
       "      <th>Agency</th>\n",
       "      <th>Agency Type</th>\n",
       "      <th>Distribution Channel</th>\n",
       "      <th>Product Name</th>\n",
       "      <th>Gender</th>\n",
       "      <th>Duration</th>\n",
       "      <th>Destination</th>\n",
       "      <th>Net Sales</th>\n",
       "      <th>Commision (in value)</th>\n",
       "      <th>Age</th>\n",
       "      <th>Claim</th>\n",
       "    </tr>\n",
       "  </thead>\n",
       "  <tbody>\n",
       "    <tr>\n",
       "      <th>0</th>\n",
       "      <td>C2B</td>\n",
       "      <td>Airlines</td>\n",
       "      <td>Online</td>\n",
       "      <td>Annual Silver Plan</td>\n",
       "      <td>F</td>\n",
       "      <td>365</td>\n",
       "      <td>SINGAPORE</td>\n",
       "      <td>216.0</td>\n",
       "      <td>54.0</td>\n",
       "      <td>57</td>\n",
       "      <td>No</td>\n",
       "    </tr>\n",
       "    <tr>\n",
       "      <th>1</th>\n",
       "      <td>EPX</td>\n",
       "      <td>Travel Agency</td>\n",
       "      <td>Online</td>\n",
       "      <td>Cancellation Plan</td>\n",
       "      <td>NaN</td>\n",
       "      <td>4</td>\n",
       "      <td>MALAYSIA</td>\n",
       "      <td>10.0</td>\n",
       "      <td>0.0</td>\n",
       "      <td>33</td>\n",
       "      <td>No</td>\n",
       "    </tr>\n",
       "    <tr>\n",
       "      <th>2</th>\n",
       "      <td>JZI</td>\n",
       "      <td>Airlines</td>\n",
       "      <td>Online</td>\n",
       "      <td>Basic Plan</td>\n",
       "      <td>M</td>\n",
       "      <td>19</td>\n",
       "      <td>INDIA</td>\n",
       "      <td>22.0</td>\n",
       "      <td>7.7</td>\n",
       "      <td>26</td>\n",
       "      <td>No</td>\n",
       "    </tr>\n",
       "    <tr>\n",
       "      <th>3</th>\n",
       "      <td>EPX</td>\n",
       "      <td>Travel Agency</td>\n",
       "      <td>Online</td>\n",
       "      <td>2 way Comprehensive Plan</td>\n",
       "      <td>NaN</td>\n",
       "      <td>20</td>\n",
       "      <td>UNITED STATES</td>\n",
       "      <td>112.0</td>\n",
       "      <td>0.0</td>\n",
       "      <td>59</td>\n",
       "      <td>No</td>\n",
       "    </tr>\n",
       "    <tr>\n",
       "      <th>4</th>\n",
       "      <td>C2B</td>\n",
       "      <td>Airlines</td>\n",
       "      <td>Online</td>\n",
       "      <td>Bronze Plan</td>\n",
       "      <td>M</td>\n",
       "      <td>8</td>\n",
       "      <td>SINGAPORE</td>\n",
       "      <td>16.0</td>\n",
       "      <td>4.0</td>\n",
       "      <td>28</td>\n",
       "      <td>No</td>\n",
       "    </tr>\n",
       "  </tbody>\n",
       "</table>\n",
       "</div>"
      ],
      "text/plain": [
       "  Agency    Agency Type Distribution Channel              Product Name Gender  \\\n",
       "0  C2B    Airlines       Online               Annual Silver Plan        F       \n",
       "1  EPX    Travel Agency  Online               Cancellation Plan         NaN     \n",
       "2  JZI    Airlines       Online               Basic Plan                M       \n",
       "3  EPX    Travel Agency  Online               2 way Comprehensive Plan  NaN     \n",
       "4  C2B    Airlines       Online               Bronze Plan               M       \n",
       "\n",
       "   Duration    Destination  Net Sales  Commision (in value)  Age Claim  \n",
       "0  365       SINGAPORE      216.0      54.0                  57   No    \n",
       "1  4         MALAYSIA       10.0       0.0                   33   No    \n",
       "2  19        INDIA          22.0       7.7                   26   No    \n",
       "3  20        UNITED STATES  112.0      0.0                   59   No    \n",
       "4  8         SINGAPORE      16.0       4.0                   28   No    "
      ]
     },
     "execution_count": 281,
     "metadata": {},
     "output_type": "execute_result"
    }
   ],
   "source": [
    "# Load dataset\n",
    "df = pd.read_csv(r'data_travel_insurance.csv')\n",
    "df.head()"
   ]
  },
  {
   "attachments": {},
   "cell_type": "markdown",
   "metadata": {},
   "source": [
    "### Exploratory Data Analysis"
   ]
  },
  {
   "attachments": {},
   "cell_type": "markdown",
   "metadata": {},
   "source": [
    "From the data description below we can see that:\n",
    "\n",
    "1. There are 44328 number of columns\n",
    "2. Gender seems to have a lot of missing value (will explore further below in data cleaning)\n",
    "3. Most used *Agency* and *Agency Type* is `EPX` and `Travel Agency` respectively\n",
    "4. Most used *Distribution Channel* is through `online`\n",
    "5. Most product used is `Cancellation Plan`\n",
    "6. Most visited country is `Singapore`\n",
    "7. Lowest travel duration is `-1`, could be an anomaly (will explore further below in data cleaning)\n",
    "8. Oldest person with travel insurance is `118 years old`\n",
    "9. Lowest *Net Sales* and *Commision* is `-357.50` and `0` respectively (we will assume these values in dollars, $)\n",
    "10. Highest *Net Sales* and *Commision* is `810` and `283.50` respectively"
   ]
  },
  {
   "cell_type": "code",
   "execution_count": 282,
   "metadata": {},
   "outputs": [
    {
     "data": {
      "text/html": [
       "<div>\n",
       "<style scoped>\n",
       "    .dataframe tbody tr th:only-of-type {\n",
       "        vertical-align: middle;\n",
       "    }\n",
       "\n",
       "    .dataframe tbody tr th {\n",
       "        vertical-align: top;\n",
       "    }\n",
       "\n",
       "    .dataframe thead th {\n",
       "        text-align: right;\n",
       "    }\n",
       "</style>\n",
       "<table border=\"1\" class=\"dataframe\">\n",
       "  <thead>\n",
       "    <tr style=\"text-align: right;\">\n",
       "      <th></th>\n",
       "      <th>Agency</th>\n",
       "      <th>Agency Type</th>\n",
       "      <th>Distribution Channel</th>\n",
       "      <th>Product Name</th>\n",
       "      <th>Gender</th>\n",
       "      <th>Duration</th>\n",
       "      <th>Destination</th>\n",
       "      <th>Net Sales</th>\n",
       "      <th>Commision (in value)</th>\n",
       "      <th>Age</th>\n",
       "      <th>Claim</th>\n",
       "    </tr>\n",
       "  </thead>\n",
       "  <tbody>\n",
       "    <tr>\n",
       "      <th>count</th>\n",
       "      <td>44328</td>\n",
       "      <td>44328</td>\n",
       "      <td>44328</td>\n",
       "      <td>44328</td>\n",
       "      <td>12681</td>\n",
       "      <td>44328.000000</td>\n",
       "      <td>44328</td>\n",
       "      <td>44328.000000</td>\n",
       "      <td>44328.000000</td>\n",
       "      <td>44328.000000</td>\n",
       "      <td>44328</td>\n",
       "    </tr>\n",
       "    <tr>\n",
       "      <th>unique</th>\n",
       "      <td>16</td>\n",
       "      <td>2</td>\n",
       "      <td>2</td>\n",
       "      <td>26</td>\n",
       "      <td>2</td>\n",
       "      <td>NaN</td>\n",
       "      <td>138</td>\n",
       "      <td>NaN</td>\n",
       "      <td>NaN</td>\n",
       "      <td>NaN</td>\n",
       "      <td>2</td>\n",
       "    </tr>\n",
       "    <tr>\n",
       "      <th>top</th>\n",
       "      <td>EPX</td>\n",
       "      <td>Travel Agency</td>\n",
       "      <td>Online</td>\n",
       "      <td>Cancellation Plan</td>\n",
       "      <td>M</td>\n",
       "      <td>NaN</td>\n",
       "      <td>SINGAPORE</td>\n",
       "      <td>NaN</td>\n",
       "      <td>NaN</td>\n",
       "      <td>NaN</td>\n",
       "      <td>No</td>\n",
       "    </tr>\n",
       "    <tr>\n",
       "      <th>freq</th>\n",
       "      <td>24656</td>\n",
       "      <td>32113</td>\n",
       "      <td>43572</td>\n",
       "      <td>12979</td>\n",
       "      <td>6504</td>\n",
       "      <td>NaN</td>\n",
       "      <td>9267</td>\n",
       "      <td>NaN</td>\n",
       "      <td>NaN</td>\n",
       "      <td>NaN</td>\n",
       "      <td>43651</td>\n",
       "    </tr>\n",
       "    <tr>\n",
       "      <th>mean</th>\n",
       "      <td>NaN</td>\n",
       "      <td>NaN</td>\n",
       "      <td>NaN</td>\n",
       "      <td>NaN</td>\n",
       "      <td>NaN</td>\n",
       "      <td>49.424292</td>\n",
       "      <td>NaN</td>\n",
       "      <td>40.550948</td>\n",
       "      <td>9.707692</td>\n",
       "      <td>39.925600</td>\n",
       "      <td>NaN</td>\n",
       "    </tr>\n",
       "    <tr>\n",
       "      <th>std</th>\n",
       "      <td>NaN</td>\n",
       "      <td>NaN</td>\n",
       "      <td>NaN</td>\n",
       "      <td>NaN</td>\n",
       "      <td>NaN</td>\n",
       "      <td>109.153961</td>\n",
       "      <td>NaN</td>\n",
       "      <td>48.661970</td>\n",
       "      <td>19.625637</td>\n",
       "      <td>13.954926</td>\n",
       "      <td>NaN</td>\n",
       "    </tr>\n",
       "    <tr>\n",
       "      <th>min</th>\n",
       "      <td>NaN</td>\n",
       "      <td>NaN</td>\n",
       "      <td>NaN</td>\n",
       "      <td>NaN</td>\n",
       "      <td>NaN</td>\n",
       "      <td>-1.000000</td>\n",
       "      <td>NaN</td>\n",
       "      <td>-357.500000</td>\n",
       "      <td>0.000000</td>\n",
       "      <td>0.000000</td>\n",
       "      <td>NaN</td>\n",
       "    </tr>\n",
       "    <tr>\n",
       "      <th>25%</th>\n",
       "      <td>NaN</td>\n",
       "      <td>NaN</td>\n",
       "      <td>NaN</td>\n",
       "      <td>NaN</td>\n",
       "      <td>NaN</td>\n",
       "      <td>9.000000</td>\n",
       "      <td>NaN</td>\n",
       "      <td>18.000000</td>\n",
       "      <td>0.000000</td>\n",
       "      <td>35.000000</td>\n",
       "      <td>NaN</td>\n",
       "    </tr>\n",
       "    <tr>\n",
       "      <th>50%</th>\n",
       "      <td>NaN</td>\n",
       "      <td>NaN</td>\n",
       "      <td>NaN</td>\n",
       "      <td>NaN</td>\n",
       "      <td>NaN</td>\n",
       "      <td>22.000000</td>\n",
       "      <td>NaN</td>\n",
       "      <td>26.500000</td>\n",
       "      <td>0.000000</td>\n",
       "      <td>36.000000</td>\n",
       "      <td>NaN</td>\n",
       "    </tr>\n",
       "    <tr>\n",
       "      <th>75%</th>\n",
       "      <td>NaN</td>\n",
       "      <td>NaN</td>\n",
       "      <td>NaN</td>\n",
       "      <td>NaN</td>\n",
       "      <td>NaN</td>\n",
       "      <td>53.000000</td>\n",
       "      <td>NaN</td>\n",
       "      <td>48.000000</td>\n",
       "      <td>11.550000</td>\n",
       "      <td>43.000000</td>\n",
       "      <td>NaN</td>\n",
       "    </tr>\n",
       "    <tr>\n",
       "      <th>max</th>\n",
       "      <td>NaN</td>\n",
       "      <td>NaN</td>\n",
       "      <td>NaN</td>\n",
       "      <td>NaN</td>\n",
       "      <td>NaN</td>\n",
       "      <td>4881.000000</td>\n",
       "      <td>NaN</td>\n",
       "      <td>810.000000</td>\n",
       "      <td>283.500000</td>\n",
       "      <td>118.000000</td>\n",
       "      <td>NaN</td>\n",
       "    </tr>\n",
       "  </tbody>\n",
       "</table>\n",
       "</div>"
      ],
      "text/plain": [
       "       Agency    Agency Type Distribution Channel       Product Name Gender  \\\n",
       "count   44328  44328          44328                44328              12681   \n",
       "unique  16     2              2                    26                 2       \n",
       "top     EPX    Travel Agency  Online               Cancellation Plan  M       \n",
       "freq    24656  32113          43572                12979              6504    \n",
       "mean    NaN    NaN            NaN                  NaN                NaN     \n",
       "std     NaN    NaN            NaN                  NaN                NaN     \n",
       "min     NaN    NaN            NaN                  NaN                NaN     \n",
       "25%     NaN    NaN            NaN                  NaN                NaN     \n",
       "50%     NaN    NaN            NaN                  NaN                NaN     \n",
       "75%     NaN    NaN            NaN                  NaN                NaN     \n",
       "max     NaN    NaN            NaN                  NaN                NaN     \n",
       "\n",
       "            Duration Destination     Net Sales  Commision (in value)  \\\n",
       "count   44328.000000  44328       44328.000000  44328.000000           \n",
       "unique NaN            138        NaN           NaN                     \n",
       "top    NaN            SINGAPORE  NaN           NaN                     \n",
       "freq   NaN            9267       NaN           NaN                     \n",
       "mean    49.424292     NaN         40.550948     9.707692               \n",
       "std     109.153961    NaN         48.661970     19.625637              \n",
       "min    -1.000000      NaN        -357.500000    0.000000               \n",
       "25%     9.000000      NaN         18.000000     0.000000               \n",
       "50%     22.000000     NaN         26.500000     0.000000               \n",
       "75%     53.000000     NaN         48.000000     11.550000              \n",
       "max     4881.000000   NaN         810.000000    283.500000             \n",
       "\n",
       "                 Age  Claim  \n",
       "count   44328.000000  44328  \n",
       "unique NaN            2      \n",
       "top    NaN            No     \n",
       "freq   NaN            43651  \n",
       "mean    39.925600     NaN    \n",
       "std     13.954926     NaN    \n",
       "min     0.000000      NaN    \n",
       "25%     35.000000     NaN    \n",
       "50%     36.000000     NaN    \n",
       "75%     43.000000     NaN    \n",
       "max     118.000000    NaN    "
      ]
     },
     "execution_count": 282,
     "metadata": {},
     "output_type": "execute_result"
    }
   ],
   "source": [
    "df.describe(include= 'all')"
   ]
  },
  {
   "attachments": {},
   "cell_type": "markdown",
   "metadata": {},
   "source": [
    "The target data is imbalanced clearly by looking at value counts from column 'Claim'"
   ]
  },
  {
   "cell_type": "code",
   "execution_count": 283,
   "metadata": {},
   "outputs": [
    {
     "data": {
      "text/plain": [
       "No     0.984727\n",
       "Yes    0.015273\n",
       "Name: Claim, dtype: float64"
      ]
     },
     "execution_count": 283,
     "metadata": {},
     "output_type": "execute_result"
    }
   ],
   "source": [
    "df['Claim'].value_counts(normalize= True)"
   ]
  },
  {
   "cell_type": "code",
   "execution_count": 284,
   "metadata": {},
   "outputs": [
    {
     "data": {
      "text/plain": [
       "No     43651\n",
       "Yes    677  \n",
       "Name: Claim, dtype: int64"
      ]
     },
     "execution_count": 284,
     "metadata": {},
     "output_type": "execute_result"
    }
   ],
   "source": [
    "df['Claim'].value_counts()"
   ]
  },
  {
   "attachments": {},
   "cell_type": "markdown",
   "metadata": {},
   "source": [
    "From Fig 1.0 below it can be seen that there are more Policyholders who get travel insurances from `Travel Agency` rather than from `Airlines`. <br>\n",
    "However there are more policyholders who *claimed* their insurance when getting it from Airlines rather than from Travel Agencies."
   ]
  },
  {
   "cell_type": "code",
   "execution_count": 285,
   "metadata": {},
   "outputs": [
    {
     "data": {
      "text/plain": [
       "Agency Type    Claim\n",
       "Airlines       No       11776\n",
       "               Yes      439  \n",
       "Travel Agency  No       31875\n",
       "               Yes      238  \n",
       "Name: Claim, dtype: int64"
      ]
     },
     "execution_count": 285,
     "metadata": {},
     "output_type": "execute_result"
    }
   ],
   "source": [
    "df.groupby('Agency Type')['Claim'].value_counts()"
   ]
  },
  {
   "cell_type": "code",
   "execution_count": 286,
   "metadata": {},
   "outputs": [
    {
     "data": {
      "image/png": "[encoded data removed]",
      "text/plain": [
       "<Figure size 1080x720 with 1 Axes>"
      ]
     },
     "metadata": {
      "needs_background": "light"
     },
     "output_type": "display_data"
    }
   ],
   "source": [
    "plt.figure(figsize= (15, 10))\n",
    "sns.countplot(df['Agency Type'], hue= df['Claim'])\n",
    "plt.title(\"Fig 1.0 Agency Type Frequency for Claimed and Not Claimed\")\n",
    "plt.show()\n"
   ]
  },
  {
   "attachments": {},
   "cell_type": "markdown",
   "metadata": {},
   "source": [
    "From Fig 2.0 below it can be seen that the dataset contain more males than females who uses travel insurance but only by a small margin. "
   ]
  },
  {
   "cell_type": "code",
   "execution_count": 287,
   "metadata": {},
   "outputs": [
    {
     "data": {
      "text/plain": [
       "Gender  Claim\n",
       "F       No       5923\n",
       "        Yes      254 \n",
       "M       No       6283\n",
       "        Yes      221 \n",
       "Name: Claim, dtype: int64"
      ]
     },
     "execution_count": 287,
     "metadata": {},
     "output_type": "execute_result"
    }
   ],
   "source": [
    "df.groupby(['Gender'])['Claim'].value_counts()"
   ]
  },
  {
   "cell_type": "code",
   "execution_count": 288,
   "metadata": {},
   "outputs": [
    {
     "data": {
      "image/png": "[encoded data removed]",
      "text/plain": [
       "<Figure size 1080x720 with 1 Axes>"
      ]
     },
     "metadata": {
      "needs_background": "light"
     },
     "output_type": "display_data"
    }
   ],
   "source": [
    "plt.figure(figsize= (15, 10))\n",
    "sns.countplot(df['Gender'], hue= df['Claim'])\n",
    "plt.title(\"Fig 2.0 Gender Frequency for Claimed and Not Claimed\")\n",
    "plt.show()"
   ]
  },
  {
   "attachments": {},
   "cell_type": "markdown",
   "metadata": {},
   "source": [
    "From Fig 3.0 below it can be seen that most policyholders get their travel insurance through online channel. <br>\n",
    "Additionally both online and offline channels have a low number of policyholders who claimed their insurance. "
   ]
  },
  {
   "cell_type": "code",
   "execution_count": 289,
   "metadata": {},
   "outputs": [
    {
     "data": {
      "text/plain": [
       "Distribution Channel  Claim\n",
       "Offline               No       745  \n",
       "                      Yes      11   \n",
       "Online                No       42906\n",
       "                      Yes      666  \n",
       "Name: Claim, dtype: int64"
      ]
     },
     "execution_count": 289,
     "metadata": {},
     "output_type": "execute_result"
    }
   ],
   "source": [
    "df.groupby('Distribution Channel')['Claim'].value_counts()"
   ]
  },
  {
   "cell_type": "code",
   "execution_count": 290,
   "metadata": {},
   "outputs": [
    {
     "data": {
      "image/png": "[encoded data removed]",
      "text/plain": [
       "<Figure size 1080x720 with 1 Axes>"
      ]
     },
     "metadata": {
      "needs_background": "light"
     },
     "output_type": "display_data"
    }
   ],
   "source": [
    "plt.figure(figsize= (15, 10))\n",
    "sns.countplot(df['Distribution Channel'], hue= df['Claim'])\n",
    "plt.title(\"Fig 3.0 Distribution Channel Frequency for Claimed and Not Claimed\")\n",
    "plt.show()"
   ]
  },
  {
   "attachments": {},
   "cell_type": "markdown",
   "metadata": {},
   "source": [
    "## Data Preprocessing"
   ]
  },
  {
   "attachments": {},
   "cell_type": "markdown",
   "metadata": {},
   "source": [
    "In this section we would be doing data wrangling and cleaning, feature selection and feature engineering before we move on to building and benchmarking models."
   ]
  },
  {
   "attachments": {},
   "cell_type": "markdown",
   "metadata": {},
   "source": [
    "### Data Cleaning"
   ]
  },
  {
   "attachments": {},
   "cell_type": "markdown",
   "metadata": {},
   "source": [
    "In data cleaning section we would be dealing with treating missing values by either dropping the feature if it is not necessary or by imputing them with values that are relevant and reasonable.\n",
    "Next we would be checking anomalies inside the data and treat them appropriately. For example checking the 'age' column if there are any age that are out of the ordinary and how we would deal with them will be explored below."
   ]
  },
  {
   "attachments": {},
   "cell_type": "markdown",
   "metadata": {},
   "source": [
    "Before moving further let's check on duplicated data. by using `.duplicated().sum()` it can be seen below that there are 4667 duplicates. However after viewing all the 'duplicated' rows, no two rows are an exact/mirror of each other. So we would treat this dataset as having no duplicates."
   ]
  },
  {
   "cell_type": "code",
   "execution_count": 291,
   "metadata": {},
   "outputs": [],
   "source": [
    "# Make a copy of dataset\n",
    "df_clean = df.copy()"
   ]
  },
  {
   "cell_type": "code",
   "execution_count": 292,
   "metadata": {},
   "outputs": [
    {
     "data": {
      "text/plain": [
       "4667"
      ]
     },
     "execution_count": 292,
     "metadata": {},
     "output_type": "execute_result"
    }
   ],
   "source": [
    "# Check duplicates\n",
    "df_clean.duplicated().sum()"
   ]
  },
  {
   "cell_type": "code",
   "execution_count": 293,
   "metadata": {},
   "outputs": [
    {
     "data": {
      "text/plain": [
       "10.528334235697526"
      ]
     },
     "execution_count": 293,
     "metadata": {},
     "output_type": "execute_result"
    }
   ],
   "source": [
    "# Duplicate percentage \n",
    "4667 / len(df_clean) *100"
   ]
  },
  {
   "cell_type": "code",
   "execution_count": 294,
   "metadata": {},
   "outputs": [
    {
     "data": {
      "text/html": [
       "<div>\n",
       "<style scoped>\n",
       "    .dataframe tbody tr th:only-of-type {\n",
       "        vertical-align: middle;\n",
       "    }\n",
       "\n",
       "    .dataframe tbody tr th {\n",
       "        vertical-align: top;\n",
       "    }\n",
       "\n",
       "    .dataframe thead th {\n",
       "        text-align: right;\n",
       "    }\n",
       "</style>\n",
       "<table border=\"1\" class=\"dataframe\">\n",
       "  <thead>\n",
       "    <tr style=\"text-align: right;\">\n",
       "      <th></th>\n",
       "      <th>Agency</th>\n",
       "      <th>Agency Type</th>\n",
       "      <th>Distribution Channel</th>\n",
       "      <th>Product Name</th>\n",
       "      <th>Gender</th>\n",
       "      <th>Duration</th>\n",
       "      <th>Destination</th>\n",
       "      <th>Net Sales</th>\n",
       "      <th>Commision (in value)</th>\n",
       "      <th>Age</th>\n",
       "      <th>Claim</th>\n",
       "    </tr>\n",
       "  </thead>\n",
       "  <tbody>\n",
       "    <tr>\n",
       "      <th>0</th>\n",
       "      <td>C2B</td>\n",
       "      <td>Airlines</td>\n",
       "      <td>Online</td>\n",
       "      <td>Annual Silver Plan</td>\n",
       "      <td>F</td>\n",
       "      <td>365</td>\n",
       "      <td>SINGAPORE</td>\n",
       "      <td>216.0</td>\n",
       "      <td>54.00</td>\n",
       "      <td>57</td>\n",
       "      <td>No</td>\n",
       "    </tr>\n",
       "    <tr>\n",
       "      <th>1</th>\n",
       "      <td>EPX</td>\n",
       "      <td>Travel Agency</td>\n",
       "      <td>Online</td>\n",
       "      <td>Cancellation Plan</td>\n",
       "      <td>NaN</td>\n",
       "      <td>4</td>\n",
       "      <td>MALAYSIA</td>\n",
       "      <td>10.0</td>\n",
       "      <td>0.00</td>\n",
       "      <td>33</td>\n",
       "      <td>No</td>\n",
       "    </tr>\n",
       "    <tr>\n",
       "      <th>3</th>\n",
       "      <td>EPX</td>\n",
       "      <td>Travel Agency</td>\n",
       "      <td>Online</td>\n",
       "      <td>2 way Comprehensive Plan</td>\n",
       "      <td>NaN</td>\n",
       "      <td>20</td>\n",
       "      <td>UNITED STATES</td>\n",
       "      <td>112.0</td>\n",
       "      <td>0.00</td>\n",
       "      <td>59</td>\n",
       "      <td>No</td>\n",
       "    </tr>\n",
       "    <tr>\n",
       "      <th>5</th>\n",
       "      <td>EPX</td>\n",
       "      <td>Travel Agency</td>\n",
       "      <td>Online</td>\n",
       "      <td>Cancellation Plan</td>\n",
       "      <td>NaN</td>\n",
       "      <td>2</td>\n",
       "      <td>SINGAPORE</td>\n",
       "      <td>10.0</td>\n",
       "      <td>0.00</td>\n",
       "      <td>36</td>\n",
       "      <td>No</td>\n",
       "    </tr>\n",
       "    <tr>\n",
       "      <th>31</th>\n",
       "      <td>EPX</td>\n",
       "      <td>Travel Agency</td>\n",
       "      <td>Online</td>\n",
       "      <td>Cancellation Plan</td>\n",
       "      <td>NaN</td>\n",
       "      <td>19</td>\n",
       "      <td>UNITED KINGDOM</td>\n",
       "      <td>10.0</td>\n",
       "      <td>0.00</td>\n",
       "      <td>36</td>\n",
       "      <td>No</td>\n",
       "    </tr>\n",
       "    <tr>\n",
       "      <th>...</th>\n",
       "      <td>...</td>\n",
       "      <td>...</td>\n",
       "      <td>...</td>\n",
       "      <td>...</td>\n",
       "      <td>...</td>\n",
       "      <td>...</td>\n",
       "      <td>...</td>\n",
       "      <td>...</td>\n",
       "      <td>...</td>\n",
       "      <td>...</td>\n",
       "      <td>...</td>\n",
       "    </tr>\n",
       "    <tr>\n",
       "      <th>44309</th>\n",
       "      <td>EPX</td>\n",
       "      <td>Travel Agency</td>\n",
       "      <td>Online</td>\n",
       "      <td>2 way Comprehensive Plan</td>\n",
       "      <td>NaN</td>\n",
       "      <td>49</td>\n",
       "      <td>VIET NAM</td>\n",
       "      <td>20.0</td>\n",
       "      <td>0.00</td>\n",
       "      <td>36</td>\n",
       "      <td>No</td>\n",
       "    </tr>\n",
       "    <tr>\n",
       "      <th>44311</th>\n",
       "      <td>CWT</td>\n",
       "      <td>Travel Agency</td>\n",
       "      <td>Online</td>\n",
       "      <td>Rental Vehicle Excess Insurance</td>\n",
       "      <td>NaN</td>\n",
       "      <td>5</td>\n",
       "      <td>THAILAND</td>\n",
       "      <td>29.7</td>\n",
       "      <td>17.82</td>\n",
       "      <td>38</td>\n",
       "      <td>No</td>\n",
       "    </tr>\n",
       "    <tr>\n",
       "      <th>44313</th>\n",
       "      <td>EPX</td>\n",
       "      <td>Travel Agency</td>\n",
       "      <td>Online</td>\n",
       "      <td>Cancellation Plan</td>\n",
       "      <td>NaN</td>\n",
       "      <td>5</td>\n",
       "      <td>CHINA</td>\n",
       "      <td>14.0</td>\n",
       "      <td>0.00</td>\n",
       "      <td>36</td>\n",
       "      <td>No</td>\n",
       "    </tr>\n",
       "    <tr>\n",
       "      <th>44315</th>\n",
       "      <td>EPX</td>\n",
       "      <td>Travel Agency</td>\n",
       "      <td>Online</td>\n",
       "      <td>1 way Comprehensive Plan</td>\n",
       "      <td>NaN</td>\n",
       "      <td>5</td>\n",
       "      <td>THAILAND</td>\n",
       "      <td>20.0</td>\n",
       "      <td>0.00</td>\n",
       "      <td>36</td>\n",
       "      <td>No</td>\n",
       "    </tr>\n",
       "    <tr>\n",
       "      <th>44321</th>\n",
       "      <td>EPX</td>\n",
       "      <td>Travel Agency</td>\n",
       "      <td>Online</td>\n",
       "      <td>Cancellation Plan</td>\n",
       "      <td>NaN</td>\n",
       "      <td>4</td>\n",
       "      <td>ITALY</td>\n",
       "      <td>10.0</td>\n",
       "      <td>0.00</td>\n",
       "      <td>36</td>\n",
       "      <td>No</td>\n",
       "    </tr>\n",
       "  </tbody>\n",
       "</table>\n",
       "<p>7316 rows × 11 columns</p>\n",
       "</div>"
      ],
      "text/plain": [
       "      Agency    Agency Type Distribution Channel  \\\n",
       "0      C2B    Airlines       Online                \n",
       "1      EPX    Travel Agency  Online                \n",
       "3      EPX    Travel Agency  Online                \n",
       "5      EPX    Travel Agency  Online                \n",
       "31     EPX    Travel Agency  Online                \n",
       "...    ...              ...     ...                \n",
       "44309  EPX    Travel Agency  Online                \n",
       "44311  CWT    Travel Agency  Online                \n",
       "44313  EPX    Travel Agency  Online                \n",
       "44315  EPX    Travel Agency  Online                \n",
       "44321  EPX    Travel Agency  Online                \n",
       "\n",
       "                          Product Name Gender  Duration     Destination  \\\n",
       "0      Annual Silver Plan               F      365       SINGAPORE        \n",
       "1      Cancellation Plan                NaN    4         MALAYSIA         \n",
       "3      2 way Comprehensive Plan         NaN    20        UNITED STATES    \n",
       "5      Cancellation Plan                NaN    2         SINGAPORE        \n",
       "31     Cancellation Plan                NaN    19        UNITED KINGDOM   \n",
       "...                  ...                ...    ..                   ...   \n",
       "44309  2 way Comprehensive Plan         NaN    49        VIET NAM         \n",
       "44311  Rental Vehicle Excess Insurance  NaN    5         THAILAND         \n",
       "44313  Cancellation Plan                NaN    5         CHINA            \n",
       "44315  1 way Comprehensive Plan         NaN    5         THAILAND         \n",
       "44321  Cancellation Plan                NaN    4         ITALY            \n",
       "\n",
       "       Net Sales  Commision (in value)  Age Claim  \n",
       "0      216.0      54.00                 57   No    \n",
       "1      10.0       0.00                  33   No    \n",
       "3      112.0      0.00                  59   No    \n",
       "5      10.0       0.00                  36   No    \n",
       "31     10.0       0.00                  36   No    \n",
       "...     ...        ...                  ..   ..    \n",
       "44309  20.0       0.00                  36   No    \n",
       "44311  29.7       17.82                 38   No    \n",
       "44313  14.0       0.00                  36   No    \n",
       "44315  20.0       0.00                  36   No    \n",
       "44321  10.0       0.00                  36   No    \n",
       "\n",
       "[7316 rows x 11 columns]"
      ]
     },
     "execution_count": 294,
     "metadata": {},
     "output_type": "execute_result"
    }
   ],
   "source": [
    "# View all duplicates\n",
    "duplicates = df_clean[df_clean.duplicated(keep= False)]\n",
    "duplicates"
   ]
  },
  {
   "attachments": {},
   "cell_type": "markdown",
   "metadata": {},
   "source": [
    "After checking the total missing values, only the column *Gender* contain missing values. However we must double check all other columns further to make sure that there are no values such as *?* or *-* which the code detect as not a missing value."
   ]
  },
  {
   "cell_type": "code",
   "execution_count": 295,
   "metadata": {},
   "outputs": [
    {
     "data": {
      "text/plain": [
       "Agency                  0    \n",
       "Agency Type             0    \n",
       "Distribution Channel    0    \n",
       "Product Name            0    \n",
       "Gender                  31647\n",
       "Duration                0    \n",
       "Destination             0    \n",
       "Net Sales               0    \n",
       "Commision (in value)    0    \n",
       "Age                     0    \n",
       "Claim                   0    \n",
       "dtype: int64"
      ]
     },
     "execution_count": 295,
     "metadata": {},
     "output_type": "execute_result"
    }
   ],
   "source": [
    "# Check the number of missing values for every columns\n",
    "df_clean.isnull().sum()"
   ]
  },
  {
   "attachments": {},
   "cell_type": "markdown",
   "metadata": {},
   "source": [
    "From the table below we can conclude that all the missing values are only in the column *Gender* as *nan*. There are no missing values anomalies such as ? and - in other columns. The missing values from the Gender column could be that policyholders did not input or specify their genders."
   ]
  },
  {
   "cell_type": "code",
   "execution_count": 296,
   "metadata": {},
   "outputs": [
    {
     "data": {
      "text/html": [
       "<div>\n",
       "<style scoped>\n",
       "    .dataframe tbody tr th:only-of-type {\n",
       "        vertical-align: middle;\n",
       "    }\n",
       "\n",
       "    .dataframe tbody tr th {\n",
       "        vertical-align: top;\n",
       "    }\n",
       "\n",
       "    .dataframe thead th {\n",
       "        text-align: right;\n",
       "    }\n",
       "</style>\n",
       "<table border=\"1\" class=\"dataframe\">\n",
       "  <thead>\n",
       "    <tr style=\"text-align: right;\">\n",
       "      <th></th>\n",
       "      <th>features</th>\n",
       "      <th>data_type</th>\n",
       "      <th>null</th>\n",
       "      <th>null_percentage</th>\n",
       "      <th>n_unique</th>\n",
       "      <th>unique</th>\n",
       "    </tr>\n",
       "  </thead>\n",
       "  <tbody>\n",
       "    <tr>\n",
       "      <th>0</th>\n",
       "      <td>Agency</td>\n",
       "      <td>object</td>\n",
       "      <td>0</td>\n",
       "      <td>0.00</td>\n",
       "      <td>16</td>\n",
       "      <td>[C2B, EPX, JZI, CWT, LWC, ART, CSR, SSI, RAB, KML, TST, TTW, JWT, ADM, CCR, CBH]</td>\n",
       "    </tr>\n",
       "    <tr>\n",
       "      <th>1</th>\n",
       "      <td>Agency Type</td>\n",
       "      <td>object</td>\n",
       "      <td>0</td>\n",
       "      <td>0.00</td>\n",
       "      <td>2</td>\n",
       "      <td>[Airlines, Travel Agency]</td>\n",
       "    </tr>\n",
       "    <tr>\n",
       "      <th>2</th>\n",
       "      <td>Distribution Channel</td>\n",
       "      <td>object</td>\n",
       "      <td>0</td>\n",
       "      <td>0.00</td>\n",
       "      <td>2</td>\n",
       "      <td>[Online, Offline]</td>\n",
       "    </tr>\n",
       "    <tr>\n",
       "      <th>3</th>\n",
       "      <td>Product Name</td>\n",
       "      <td>object</td>\n",
       "      <td>0</td>\n",
       "      <td>0.00</td>\n",
       "      <td>26</td>\n",
       "      <td>[Annual Silver Plan, Cancellation Plan, Basic Plan, 2 way Comprehensive Plan, Bronze Plan, 1 way Comprehensive Plan, Rental Vehicle Excess Insurance, Single Trip Travel Protect Gold, Silver Plan, Value Plan, 24 Protect, Annual Travel Protect Gold, Comprehensive Plan, Ticket Protector, Travel Cruise Protect, Single Trip Travel Protect Silver, Individual Comprehensive Plan, Gold Plan, Annual Gold Plan, Child Comprehensive Plan, Premier Plan, Annual Travel Protect Silver, Single Trip Travel Protect Platinum, Annual Travel Protect Platinum, Spouse or Parents Comprehensive Plan, Travel Cruise Protect Family]</td>\n",
       "    </tr>\n",
       "    <tr>\n",
       "      <th>4</th>\n",
       "      <td>Gender</td>\n",
       "      <td>object</td>\n",
       "      <td>31647</td>\n",
       "      <td>71.39</td>\n",
       "      <td>2</td>\n",
       "      <td>[F, nan, M]</td>\n",
       "    </tr>\n",
       "    <tr>\n",
       "      <th>5</th>\n",
       "      <td>Duration</td>\n",
       "      <td>int64</td>\n",
       "      <td>0</td>\n",
       "      <td>0.00</td>\n",
       "      <td>437</td>\n",
       "      <td>[365, 4, 19, 20, 8, 2, 25, 90, 24, 43, 103, 376, 6, 16, 27, 34, 3, 14, 12, 31, 5, 7, 56, 29, 30, 58, 9, 38, 42, 11, 13, 40, 79, 370, 366, 26, 83, 55, 18, 100, 1, 35, 36, 75, 23, 73, 32, 232, 37, 10, 4736, 15, 17, 99, 173, 74, 82, 66, 156, 39, 95, 98, 111, 430, 53, 77, 87, 70, 151, 45, 54, 114, 118, 62, 28, 112, 326, 22, 59, 44, 21, 97, 63, 60, 51, 180, 160, 368, 65, 93, 71, 57, 0, 76, 69, 110, 146, 116, 129, 84, ...]</td>\n",
       "    </tr>\n",
       "    <tr>\n",
       "      <th>6</th>\n",
       "      <td>Destination</td>\n",
       "      <td>object</td>\n",
       "      <td>0</td>\n",
       "      <td>0.00</td>\n",
       "      <td>138</td>\n",
       "      <td>[SINGAPORE, MALAYSIA, INDIA, UNITED STATES, KOREA, REPUBLIC OF, THAILAND, GERMANY, JAPAN, INDONESIA, VIET NAM, AUSTRALIA, FINLAND, UNITED KINGDOM, SRI LANKA, SPAIN, HONG KONG, MACAO, CHINA, UNITED ARAB EMIRATES, IRAN, ISLAMIC REPUBLIC OF, TAIWAN, PROVINCE OF CHINA, POLAND, CANADA, OMAN, PHILIPPINES, GREECE, BELGIUM, TURKEY, BRUNEI DARUSSALAM, DENMARK, SWITZERLAND, NETHERLANDS, SWEDEN, MYANMAR, KENYA, CZECH REPUBLIC, FRANCE, RUSSIAN FEDERATION, PAKISTAN, ARGENTINA, TANZANIA, UNITED REPUBLIC OF, SERBIA, ITALY, CROATIA, NEW ZEALAND, PERU, MONGOLIA, CAMBODIA, QATAR, NORWAY, LUXEMBOURG, MALTA, LAO PEOPLE'S DEMOCRATIC REPUBLIC, ISRAEL, SAUDI ARABIA, AUSTRIA, PORTUGAL, NEPAL, UKRAINE, ESTONIA, ICELAND, BRAZIL, MEXICO, CAYMAN ISLANDS, PANAMA, BANGLADESH, TURKMENISTAN, BAHRAIN, KAZAKHSTAN, TUNISIA, IRELAND, ETHIOPIA, NORTHERN MARIANA ISLANDS, MALDIVES, SOUTH AFRICA, VENEZUELA, COSTA RICA, JORDAN, MALI, CYPRUS, MAURITIUS, LEBANON, KUWAIT, AZERBAIJAN, HUNGARY, BHUTAN, BELARUS, MOROCCO, ECUADOR, UZBEKISTAN, CHILE, FIJI, PAPUA NEW GUINEA, ANGOLA, FRENCH POLYNESIA, NIGERIA, MACEDONIA, THE FORMER YUGOSLAV REPUBLIC OF, NAMIBIA, GEORGIA, COLOMBIA, ...]</td>\n",
       "    </tr>\n",
       "    <tr>\n",
       "      <th>7</th>\n",
       "      <td>Net Sales</td>\n",
       "      <td>float64</td>\n",
       "      <td>0</td>\n",
       "      <td>0.00</td>\n",
       "      <td>1006</td>\n",
       "      <td>[216.0, 10.0, 22.0, 112.0, 16.0, 50.0, 78.0, 80.0, 40.0, 26.0, 252.85, 47.0, 25.0, 23.0, 20.0, 30.0, 42.0, 56.0, 19.8, 14.0, 29.7, 36.0, 31.0, 58.0, 9.9, 15.0, 21.0, 29.0, 32.0, 125.0, 48.0, 0.0, 21.04, 33.0, 204.6, 34.0, 30.55, 35.0, 49.5, 18.0, 98.0, 77.0, 69.3, 64.0, 0.32, 227.7, 48.5, -216.75, 24.0, 161.0, 99.0, 59.4, 45.0, 37.0, 44.0, 19.0, 75.0, 39.0, 17.55, -59.4, 51.0, -29.7, 80.25, 63.0, 12.0, 72.0, 53.0, 38.0, 17.0, 54.0, 69.0, 115.0, 76.3, 19.5, 29.5, 62.0, 11.0, 3.73, 79.0, 138.6, 22.5, 59.0, 5.59, 33.5, 53.25, 62.25, 93.0, -12.0, 1.03, 27.0, 56.5, 39.6, 28.0, 41.0, 97.0, 128.0, 43.0, 66.0, 26.5, 0.19, ...]</td>\n",
       "    </tr>\n",
       "    <tr>\n",
       "      <th>8</th>\n",
       "      <td>Commision (in value)</td>\n",
       "      <td>float64</td>\n",
       "      <td>0</td>\n",
       "      <td>0.00</td>\n",
       "      <td>915</td>\n",
       "      <td>[54.0, 0.0, 7.7, 4.0, 9.1, 63.21, 10.5, 11.88, 17.82, 23.4, 7.5, 5.94, 43.75, 23.76, 7.36, 132.99, 9.57, 7.64, 12.25, 29.7, 6.3, 5.63, 41.58, 5.25, 0.09, 6.0, 136.62, 31.53, 54.19, 11.55, 10.15, 40.25, 59.4, 35.64, 15.75, 12.95, 28.5, 9.75, 4.39, 20.06, 18.0, 4.25, 19.07, 4.88, 7.38, 15.5, 1.05, 83.16, 14.7, 15.4, 1.57, 8.38, 13.31, 15.56, 0.29, 8.0, 36.73, 13.65, 20.3, 5.0, 10.0, 6.63, 0.05, 24.15, 29.05, 8.88, 14.0, 3.38, 15.88, 0.45, 10.89, 47.52, 0.37, 27.25, 18.13, 15.6, 70.2, 12.4, 72.94, 8.63, 4.63, 6.75, 11.25, 0.96, 53.46, 77.22, 1.13, 4.94, 1.73, 10.38, 58.45, 23.5, 6.94, 6.13, 41.42, 17.5, 13.16, 0.14, 3.23, 15.93, ...]</td>\n",
       "    </tr>\n",
       "    <tr>\n",
       "      <th>9</th>\n",
       "      <td>Age</td>\n",
       "      <td>int64</td>\n",
       "      <td>0</td>\n",
       "      <td>0.00</td>\n",
       "      <td>89</td>\n",
       "      <td>[57, 33, 26, 59, 28, 36, 22, 39, 27, 48, 43, 51, 65, 47, 35, 54, 23, 46, 58, 42, 31, 29, 37, 68, 8, 32, 61, 49, 56, 25, 50, 34, 38, 44, 118, 45, 53, 20, 30, 41, 69, 52, 40, 70, 76, 74, 66, 63, 55, 21, 60, 75, 24, 62, 73, 64, 71, 5, 14, 72, 84, 81, 16, 19, 67, 83, 13, 79, 18, 9, 80, 17, 82, 78, 15, 77, 87, 88, 11, 12, 86, 7, 10, 2, 3, 1, 4, 85, 0]</td>\n",
       "    </tr>\n",
       "    <tr>\n",
       "      <th>10</th>\n",
       "      <td>Claim</td>\n",
       "      <td>object</td>\n",
       "      <td>0</td>\n",
       "      <td>0.00</td>\n",
       "      <td>2</td>\n",
       "      <td>[No, Yes]</td>\n",
       "    </tr>\n",
       "  </tbody>\n",
       "</table>\n",
       "</div>"
      ],
      "text/plain": [
       "                features data_type   null  null_percentage  n_unique  \\\n",
       "0   Agency                object    0      0.00             16         \n",
       "1   Agency Type           object    0      0.00             2          \n",
       "2   Distribution Channel  object    0      0.00             2          \n",
       "3   Product Name          object    0      0.00             26         \n",
       "4   Gender                object    31647  71.39            2          \n",
       "5   Duration              int64     0      0.00             437        \n",
       "6   Destination           object    0      0.00             138        \n",
       "7   Net Sales             float64   0      0.00             1006       \n",
       "8   Commision (in value)  float64   0      0.00             915        \n",
       "9   Age                   int64     0      0.00             89         \n",
       "10  Claim                 object    0      0.00             2          \n",
       "\n",
       "                                                                                                                                                                                                                                                                                                                                                                                                                                                                                                                                                                                                                                                                                                                                                                                                                                                                                                                                                                                                                                                                                                                                                                                               unique  \n",
       "0   [C2B, EPX, JZI, CWT, LWC, ART, CSR, SSI, RAB, KML, TST, TTW, JWT, ADM, CCR, CBH]                                                                                                                                                                                                                                                                                                                                                                                                                                                                                                                                                                                                                                                                                                                                                                                                                                                                                                                                                                                                                                                                                                                   \n",
       "1   [Airlines, Travel Agency]                                                                                                                                                                                                                                                                                                                                                                                                                                                                                                                                                                                                                                                                                                                                                                                                                                                                                                                                                                                                                                                                                                                                                                          \n",
       "2   [Online, Offline]                                                                                                                                                                                                                                                                                                                                                                                                                                                                                                                                                                                                                                                                                                                                                                                                                                                                                                                                                                                                                                                                                                                                                                                  \n",
       "3   [Annual Silver Plan, Cancellation Plan, Basic Plan, 2 way Comprehensive Plan, Bronze Plan, 1 way Comprehensive Plan, Rental Vehicle Excess Insurance, Single Trip Travel Protect Gold, Silver Plan, Value Plan, 24 Protect, Annual Travel Protect Gold, Comprehensive Plan, Ticket Protector, Travel Cruise Protect, Single Trip Travel Protect Silver, Individual Comprehensive Plan, Gold Plan, Annual Gold Plan, Child Comprehensive Plan, Premier Plan, Annual Travel Protect Silver, Single Trip Travel Protect Platinum, Annual Travel Protect Platinum, Spouse or Parents Comprehensive Plan, Travel Cruise Protect Family]                                                                                                                                                                                                                                                                                                                                                                                                                                                                                                                                                                 \n",
       "4   [F, nan, M]                                                                                                                                                                                                                                                                                                                                                                                                                                                                                                                                                                                                                                                                                                                                                                                                                                                                                                                                                                                                                                                                                                                                                                                        \n",
       "5   [365, 4, 19, 20, 8, 2, 25, 90, 24, 43, 103, 376, 6, 16, 27, 34, 3, 14, 12, 31, 5, 7, 56, 29, 30, 58, 9, 38, 42, 11, 13, 40, 79, 370, 366, 26, 83, 55, 18, 100, 1, 35, 36, 75, 23, 73, 32, 232, 37, 10, 4736, 15, 17, 99, 173, 74, 82, 66, 156, 39, 95, 98, 111, 430, 53, 77, 87, 70, 151, 45, 54, 114, 118, 62, 28, 112, 326, 22, 59, 44, 21, 97, 63, 60, 51, 180, 160, 368, 65, 93, 71, 57, 0, 76, 69, 110, 146, 116, 129, 84, ...]                                                                                                                                                                                                                                                                                                                                                                                                                                                                                                                                                                                                                                                                                                                                                               \n",
       "6   [SINGAPORE, MALAYSIA, INDIA, UNITED STATES, KOREA, REPUBLIC OF, THAILAND, GERMANY, JAPAN, INDONESIA, VIET NAM, AUSTRALIA, FINLAND, UNITED KINGDOM, SRI LANKA, SPAIN, HONG KONG, MACAO, CHINA, UNITED ARAB EMIRATES, IRAN, ISLAMIC REPUBLIC OF, TAIWAN, PROVINCE OF CHINA, POLAND, CANADA, OMAN, PHILIPPINES, GREECE, BELGIUM, TURKEY, BRUNEI DARUSSALAM, DENMARK, SWITZERLAND, NETHERLANDS, SWEDEN, MYANMAR, KENYA, CZECH REPUBLIC, FRANCE, RUSSIAN FEDERATION, PAKISTAN, ARGENTINA, TANZANIA, UNITED REPUBLIC OF, SERBIA, ITALY, CROATIA, NEW ZEALAND, PERU, MONGOLIA, CAMBODIA, QATAR, NORWAY, LUXEMBOURG, MALTA, LAO PEOPLE'S DEMOCRATIC REPUBLIC, ISRAEL, SAUDI ARABIA, AUSTRIA, PORTUGAL, NEPAL, UKRAINE, ESTONIA, ICELAND, BRAZIL, MEXICO, CAYMAN ISLANDS, PANAMA, BANGLADESH, TURKMENISTAN, BAHRAIN, KAZAKHSTAN, TUNISIA, IRELAND, ETHIOPIA, NORTHERN MARIANA ISLANDS, MALDIVES, SOUTH AFRICA, VENEZUELA, COSTA RICA, JORDAN, MALI, CYPRUS, MAURITIUS, LEBANON, KUWAIT, AZERBAIJAN, HUNGARY, BHUTAN, BELARUS, MOROCCO, ECUADOR, UZBEKISTAN, CHILE, FIJI, PAPUA NEW GUINEA, ANGOLA, FRENCH POLYNESIA, NIGERIA, MACEDONIA, THE FORMER YUGOSLAV REPUBLIC OF, NAMIBIA, GEORGIA, COLOMBIA, ...]  \n",
       "7   [216.0, 10.0, 22.0, 112.0, 16.0, 50.0, 78.0, 80.0, 40.0, 26.0, 252.85, 47.0, 25.0, 23.0, 20.0, 30.0, 42.0, 56.0, 19.8, 14.0, 29.7, 36.0, 31.0, 58.0, 9.9, 15.0, 21.0, 29.0, 32.0, 125.0, 48.0, 0.0, 21.04, 33.0, 204.6, 34.0, 30.55, 35.0, 49.5, 18.0, 98.0, 77.0, 69.3, 64.0, 0.32, 227.7, 48.5, -216.75, 24.0, 161.0, 99.0, 59.4, 45.0, 37.0, 44.0, 19.0, 75.0, 39.0, 17.55, -59.4, 51.0, -29.7, 80.25, 63.0, 12.0, 72.0, 53.0, 38.0, 17.0, 54.0, 69.0, 115.0, 76.3, 19.5, 29.5, 62.0, 11.0, 3.73, 79.0, 138.6, 22.5, 59.0, 5.59, 33.5, 53.25, 62.25, 93.0, -12.0, 1.03, 27.0, 56.5, 39.6, 28.0, 41.0, 97.0, 128.0, 43.0, 66.0, 26.5, 0.19, ...]                                                                                                                                                                                                                                                                                                                                                                                                                                                                                                                                                 \n",
       "8   [54.0, 0.0, 7.7, 4.0, 9.1, 63.21, 10.5, 11.88, 17.82, 23.4, 7.5, 5.94, 43.75, 23.76, 7.36, 132.99, 9.57, 7.64, 12.25, 29.7, 6.3, 5.63, 41.58, 5.25, 0.09, 6.0, 136.62, 31.53, 54.19, 11.55, 10.15, 40.25, 59.4, 35.64, 15.75, 12.95, 28.5, 9.75, 4.39, 20.06, 18.0, 4.25, 19.07, 4.88, 7.38, 15.5, 1.05, 83.16, 14.7, 15.4, 1.57, 8.38, 13.31, 15.56, 0.29, 8.0, 36.73, 13.65, 20.3, 5.0, 10.0, 6.63, 0.05, 24.15, 29.05, 8.88, 14.0, 3.38, 15.88, 0.45, 10.89, 47.52, 0.37, 27.25, 18.13, 15.6, 70.2, 12.4, 72.94, 8.63, 4.63, 6.75, 11.25, 0.96, 53.46, 77.22, 1.13, 4.94, 1.73, 10.38, 58.45, 23.5, 6.94, 6.13, 41.42, 17.5, 13.16, 0.14, 3.23, 15.93, ...]                                                                                                                                                                                                                                                                                                                                                                                                                                                                                                                                     \n",
       "9   [57, 33, 26, 59, 28, 36, 22, 39, 27, 48, 43, 51, 65, 47, 35, 54, 23, 46, 58, 42, 31, 29, 37, 68, 8, 32, 61, 49, 56, 25, 50, 34, 38, 44, 118, 45, 53, 20, 30, 41, 69, 52, 40, 70, 76, 74, 66, 63, 55, 21, 60, 75, 24, 62, 73, 64, 71, 5, 14, 72, 84, 81, 16, 19, 67, 83, 13, 79, 18, 9, 80, 17, 82, 78, 15, 77, 87, 88, 11, 12, 86, 7, 10, 2, 3, 1, 4, 85, 0]                                                                                                                                                                                                                                                                                                                                                                                                                                                                                                                                                                                                                                                                                                                                                                                                                                       \n",
       "10  [No, Yes]                                                                                                                                                                                                                                                                                                                                                                                                                                                                                                                                                                                                                                                                                                                                                                                                                                                                                                                                                                                                                                                                                                                                                                                          "
      ]
     },
     "execution_count": 296,
     "metadata": {},
     "output_type": "execute_result"
    }
   ],
   "source": [
    "pd.set_option('display.max_colwidth', -1)\n",
    "\n",
    "list_item = []\n",
    "for col in df_clean.columns:\n",
    "    list_item.append([col, df_clean[col].dtype, df_clean[col].isna().sum(), round((df_clean[col].isna().sum()/len(df_clean[col])) * 100,2), df_clean[col].nunique(), df_clean[col].unique()]);\n",
    "\n",
    "description = pd.DataFrame(\n",
    "    columns=['features', 'data_type', 'null', 'null_percentage', 'n_unique', 'unique'],\n",
    "    data=list_item\n",
    ")\n",
    "description"
   ]
  },
  {
   "attachments": {},
   "cell_type": "markdown",
   "metadata": {},
   "source": [
    "Since the missing values from the column *Gender* take up a huge protion of our data, we would not be dropping the *nan* values, rather we would replace them with a string 'unspecified'."
   ]
  },
  {
   "cell_type": "code",
   "execution_count": 297,
   "metadata": {},
   "outputs": [],
   "source": [
    "# Replacing nan values witj 'unspecified'\n",
    "df_clean['Gender'].fillna('unspecified', inplace=True)"
   ]
  },
  {
   "cell_type": "code",
   "execution_count": 298,
   "metadata": {},
   "outputs": [
    {
     "data": {
      "text/plain": [
       "Agency                  0\n",
       "Agency Type             0\n",
       "Distribution Channel    0\n",
       "Product Name            0\n",
       "Gender                  0\n",
       "Duration                0\n",
       "Destination             0\n",
       "Net Sales               0\n",
       "Commision (in value)    0\n",
       "Age                     0\n",
       "Claim                   0\n",
       "dtype: int64"
      ]
     },
     "execution_count": 298,
     "metadata": {},
     "output_type": "execute_result"
    }
   ],
   "source": [
    "# Check if the missing values are properly filled / replaced\n",
    "df_clean.isnull().sum()"
   ]
  },
  {
   "attachments": {},
   "cell_type": "markdown",
   "metadata": {},
   "source": [
    "Can be seen that all 31647 *nan* values have been converted into 'unspecified'."
   ]
  },
  {
   "cell_type": "code",
   "execution_count": 299,
   "metadata": {},
   "outputs": [
    {
     "data": {
      "text/plain": [
       "unspecified    31647\n",
       "M              6504 \n",
       "F              6177 \n",
       "Name: Gender, dtype: int64"
      ]
     },
     "execution_count": 299,
     "metadata": {},
     "output_type": "execute_result"
    }
   ],
   "source": [
    "# Check if the missing values are properly filled / replaced\n",
    "df_clean['Gender'].value_counts()"
   ]
  },
  {
   "attachments": {},
   "cell_type": "markdown",
   "metadata": {},
   "source": [
    "We would now be checking for any data anomalies for columns that would be relevant later on for feature selection and modeling."
   ]
  },
  {
   "attachments": {},
   "cell_type": "markdown",
   "metadata": {},
   "source": [
    "Let's check on the column *duration* first. It can be seen that there is a -1 long travel. As the data is in *days* it is not realistic for a travel insurance to have a duration of -1."
   ]
  },
  {
   "cell_type": "code",
   "execution_count": 300,
   "metadata": {},
   "outputs": [
    {
     "data": {
      "text/plain": [
       "array([ 365,    4,   19,   20,    8,    2,   25,   90,   24,   43,  103,\n",
       "        376,    6,   16,   27,   34,    3,   14,   12,   31,    5,    7,\n",
       "         56,   29,   30,   58,    9,   38,   42,   11,   13,   40,   79,\n",
       "        370,  366,   26,   83,   55,   18,  100,    1,   35,   36,   75,\n",
       "         23,   73,   32,  232,   37,   10, 4736,   15,   17,   99,  173,\n",
       "         74,   82,   66,  156,   39,   95,   98,  111,  430,   53,   77,\n",
       "         87,   70,  151,   45,   54,  114,  118,   62,   28,  112,  326,\n",
       "         22,   59,   44,   21,   97,   63,   60,   51,  180,  160,  368,\n",
       "         65,   93,   71,   57,    0,   76,   69,  110,  146,  116,  129,\n",
       "         84,   33,  149,   68,   64,  101,  145,   88,  222,  176,  165,\n",
       "        169,  387,   49,  109,   41,  381,   50,  161,  154,  330,   46,\n",
       "         78,   47,  121,  106,  140,   91,  104,  134,  393,  282,  123,\n",
       "        172,   86,  102,  314,  386,  383,   81,  283,  115,  144,   61,\n",
       "        206,  213,  271,  174,  152,  122,   94,  215,  228,  108,  124,\n",
       "         48,  159,  135,  179,  369,  372,  150,  107,   85,  142,   52,\n",
       "        137,   80,  278,   92,   89,  276,  226,  373,  113,  132,  187,\n",
       "        120,  158,  171,  183,  379,  163,  266,   72,  531,  364,  204,\n",
       "        199,  168,   67,  181,  148,  256,  157,  377,  224,  117,  177,\n",
       "        138,  128,  392,  105,  217,  378,  245,  388,  185,  119,  141,\n",
       "        189,  164,   96,  147,  487,  192,  253,  374,  212,  162,  136,\n",
       "        425,  155,  126,  195,  131,  130,  200,  125,  198,  143,  190,\n",
       "        153,  235,  203,  420,  371,  166,  389,  257,  133,  241,  375,\n",
       "        196,  182,  289,  127,  367,  391,  384,  304,  315,  267,  167,\n",
       "        252,  380,  433,  230,  263,  328,  402,  207,  249,  254,  419,\n",
       "        275,  139,  227,  244,  237,  234,  396,  397,  170,  299,  258,\n",
       "        178,  319,  306,  211,  231,  269,  214,  191,  408,  238,  307,\n",
       "       4857,  193,  194,  305,  251,  233,  273,  294,  240,  287,  255,\n",
       "        202,  316,  260,  225,  279,  229,  309,  322,  280,  418,  218,\n",
       "        382,  197,  428,  243,  236,  416,  390,  209,  296,  432,  325,\n",
       "        445,  270,  216,  281,  186,  208,  415,  399,  201,  184,  411,\n",
       "        417,  497,  426,  274,  331,  188,  488,  219,  413,  205,  461,\n",
       "        444,  406,  405,  457,  385, 4815,  403,  221,  264,  398,  246,\n",
       "        317, 4652,  394,  277,  297,  259,  422,  268,  395,  175,  261,\n",
       "        288,  310,  285,  262,  220,  223,  409,  400,  272,  431,  210,\n",
       "        547,  293,  318,  247, 4881,  286,  466, 4844,  436,  404,  242,\n",
       "        351,  250,  265,  740,  303,  292, 4580,  423,  440,  450,  291,\n",
       "        323,  300, 4685,  435,   -1,  412,  284, 4829,  410,  474,  437,\n",
       "        321,  472,  324,  312,  463,  490,  401,  239,  311,  519,  298,\n",
       "        512,  465,  427,  414,  529,  424,  421, 4609,  301, 4784,  334,\n",
       "        342,  248,  327,  494, 4831, 4847,  290,  407], dtype=int64)"
      ]
     },
     "execution_count": 300,
     "metadata": {},
     "output_type": "execute_result"
    }
   ],
   "source": [
    "df_clean['Duration'].unique()"
   ]
  },
  {
   "attachments": {},
   "cell_type": "markdown",
   "metadata": {},
   "source": [
    "Now we check how many columns there are containing Duration of -1. Can also be be seen that the Age is 118, we can assume that these are misinput from policiy holders or travel agency. <br>\n",
    "As there are only two columns, we would be dropping these."
   ]
  },
  {
   "cell_type": "code",
   "execution_count": 301,
   "metadata": {},
   "outputs": [
    {
     "data": {
      "text/html": [
       "<div>\n",
       "<style scoped>\n",
       "    .dataframe tbody tr th:only-of-type {\n",
       "        vertical-align: middle;\n",
       "    }\n",
       "\n",
       "    .dataframe tbody tr th {\n",
       "        vertical-align: top;\n",
       "    }\n",
       "\n",
       "    .dataframe thead th {\n",
       "        text-align: right;\n",
       "    }\n",
       "</style>\n",
       "<table border=\"1\" class=\"dataframe\">\n",
       "  <thead>\n",
       "    <tr style=\"text-align: right;\">\n",
       "      <th></th>\n",
       "      <th>Agency</th>\n",
       "      <th>Agency Type</th>\n",
       "      <th>Distribution Channel</th>\n",
       "      <th>Product Name</th>\n",
       "      <th>Gender</th>\n",
       "      <th>Duration</th>\n",
       "      <th>Destination</th>\n",
       "      <th>Net Sales</th>\n",
       "      <th>Commision (in value)</th>\n",
       "      <th>Age</th>\n",
       "      <th>Claim</th>\n",
       "    </tr>\n",
       "  </thead>\n",
       "  <tbody>\n",
       "    <tr>\n",
       "      <th>26228</th>\n",
       "      <td>JZI</td>\n",
       "      <td>Airlines</td>\n",
       "      <td>Online</td>\n",
       "      <td>Basic Plan</td>\n",
       "      <td>unspecified</td>\n",
       "      <td>-1</td>\n",
       "      <td>MALAYSIA</td>\n",
       "      <td>18.0</td>\n",
       "      <td>6.3</td>\n",
       "      <td>118</td>\n",
       "      <td>No</td>\n",
       "    </tr>\n",
       "    <tr>\n",
       "      <th>26494</th>\n",
       "      <td>JZI</td>\n",
       "      <td>Airlines</td>\n",
       "      <td>Online</td>\n",
       "      <td>Basic Plan</td>\n",
       "      <td>unspecified</td>\n",
       "      <td>-1</td>\n",
       "      <td>BRUNEI DARUSSALAM</td>\n",
       "      <td>18.0</td>\n",
       "      <td>6.3</td>\n",
       "      <td>118</td>\n",
       "      <td>No</td>\n",
       "    </tr>\n",
       "  </tbody>\n",
       "</table>\n",
       "</div>"
      ],
      "text/plain": [
       "      Agency Agency Type Distribution Channel Product Name       Gender  \\\n",
       "26228  JZI    Airlines    Online               Basic Plan   unspecified   \n",
       "26494  JZI    Airlines    Online               Basic Plan   unspecified   \n",
       "\n",
       "       Duration        Destination  Net Sales  Commision (in value)  Age Claim  \n",
       "26228 -1         MALAYSIA           18.0       6.3                   118  No    \n",
       "26494 -1         BRUNEI DARUSSALAM  18.0       6.3                   118  No    "
      ]
     },
     "execution_count": 301,
     "metadata": {},
     "output_type": "execute_result"
    }
   ],
   "source": [
    "df_clean[df_clean['Duration'] == -1]"
   ]
  },
  {
   "cell_type": "code",
   "execution_count": 302,
   "metadata": {},
   "outputs": [],
   "source": [
    "# Drop the two columns above based on their index number\n",
    "df_clean = df_clean.drop([26228, 26494])"
   ]
  },
  {
   "attachments": {},
   "cell_type": "markdown",
   "metadata": {},
   "source": [
    "There are no anomalies data from the rest of the columns as seen below."
   ]
  },
  {
   "cell_type": "code",
   "execution_count": 303,
   "metadata": {},
   "outputs": [
    {
     "data": {
      "text/plain": [
       "array([216.  ,  10.  ,  22.  , ...,   4.38,  16.54,  49.39])"
      ]
     },
     "execution_count": 303,
     "metadata": {},
     "output_type": "execute_result"
    }
   ],
   "source": [
    "df_clean['Net Sales'].unique()"
   ]
  },
  {
   "cell_type": "code",
   "execution_count": 304,
   "metadata": {},
   "outputs": [
    {
     "data": {
      "text/plain": [
       "array([5.4000e+01, 0.0000e+00, 7.7000e+00, 4.0000e+00, 9.1000e+00,\n",
       "       6.3210e+01, 1.0500e+01, 1.1880e+01, 1.7820e+01, 2.3400e+01,\n",
       "       7.5000e+00, 5.9400e+00, 4.3750e+01, 2.3760e+01, 7.3600e+00,\n",
       "       1.3299e+02, 9.5700e+00, 7.6400e+00, 1.2250e+01, 2.9700e+01,\n",
       "       6.3000e+00, 5.6300e+00, 4.1580e+01, 5.2500e+00, 9.0000e-02,\n",
       "       6.0000e+00, 1.3662e+02, 3.1530e+01, 5.4190e+01, 1.1550e+01,\n",
       "       1.0150e+01, 4.0250e+01, 5.9400e+01, 3.5640e+01, 1.5750e+01,\n",
       "       1.2950e+01, 2.8500e+01, 9.7500e+00, 4.3900e+00, 2.0060e+01,\n",
       "       1.8000e+01, 4.2500e+00, 1.9070e+01, 4.8800e+00, 7.3800e+00,\n",
       "       1.5500e+01, 1.0500e+00, 8.3160e+01, 1.4700e+01, 1.5400e+01,\n",
       "       1.5700e+00, 8.3800e+00, 1.3310e+01, 1.5560e+01, 2.9000e-01,\n",
       "       8.0000e+00, 3.6730e+01, 1.3650e+01, 2.0300e+01, 5.0000e+00,\n",
       "       1.0000e+01, 6.6300e+00, 5.0000e-02, 2.4150e+01, 2.9050e+01,\n",
       "       8.8800e+00, 1.4000e+01, 3.3800e+00, 1.5880e+01, 4.5000e-01,\n",
       "       1.0890e+01, 4.7520e+01, 3.7000e-01, 2.7250e+01, 1.8130e+01,\n",
       "       1.5600e+01, 7.0200e+01, 1.2400e+01, 7.2940e+01, 8.6300e+00,\n",
       "       4.6300e+00, 6.7500e+00, 1.1250e+01, 9.6000e-01, 5.3460e+01,\n",
       "       7.7220e+01, 1.1300e+00, 4.9400e+00, 1.7300e+00, 1.0380e+01,\n",
       "       5.8450e+01, 2.3500e+01, 6.9400e+00, 6.1300e+00, 4.1420e+01,\n",
       "       1.7500e+01, 1.3160e+01, 1.4000e-01, 3.2300e+00, 1.5930e+01,\n",
       "       3.7400e+00, 4.6960e+01, 1.6250e+01, 9.2000e+00, 4.3800e+00,\n",
       "       3.7500e+00, 3.2000e-01, 1.4250e+01, 1.2050e+02, 1.3100e+00,\n",
       "       8.3250e+01, 1.2540e+01, 5.8500e+00, 4.0000e+01, 6.3200e+00,\n",
       "       2.8350e+01, 2.1350e+01, 1.7230e+01, 7.2800e+01, 7.1280e+01,\n",
       "       1.5000e+01, 7.2500e+00, 8.2200e+00, 1.3250e+01, 3.4630e+01,\n",
       "       4.9400e+01, 1.6653e+02, 5.7500e+00, 3.2680e+01, 2.5000e-01,\n",
       "       3.0450e+01, 1.0130e+01, 2.2130e+01, 3.8150e+01, 1.2200e+00,\n",
       "       6.4800e+01, 2.4000e+01, 2.4200e+00, 1.4937e+02, 1.5300e+00,\n",
       "       1.4300e+00, 3.4100e+00, 3.1750e+01, 3.1690e+01, 1.2474e+02,\n",
       "       1.1380e+01, 8.9100e+01, 3.0200e+00, 4.9900e+00, 1.6500e+01,\n",
       "       1.3630e+01, 9.2500e+00, 2.7000e-01, 2.8800e+00, 6.5340e+01,\n",
       "       4.2350e+01, 6.0100e+00, 4.5000e+00, 8.7800e+00, 2.4800e+01,\n",
       "       2.0750e+01, 2.9440e+01, 5.8800e+00, 1.2288e+02, 2.4380e+01,\n",
       "       1.3380e+01, 4.8300e+01, 7.4000e-01, 2.0150e+01, 2.0000e+01,\n",
       "       1.2130e+01, 7.2100e+00, 4.6250e+01, 7.9100e+00, 3.8000e-01,\n",
       "       1.1210e+01, 2.5500e+01, 3.6860e+01, 5.4000e-01, 3.1000e+00,\n",
       "       3.2800e+00, 1.0640e+01, 1.7130e+01, 1.2600e+01, 2.6750e+01,\n",
       "       5.9000e-01, 5.0000e-01, 1.1830e+01, 4.0500e+00, 1.8800e+00,\n",
       "       9.4500e+00, 1.6450e+01, 1.9500e+01, 4.4840e+01, 2.5880e+01,\n",
       "       9.5900e+00, 1.8620e+01, 7.7600e+00, 3.6100e+01, 9.5040e+01,\n",
       "       2.5000e+00, 9.7340e+01, 2.3600e+00, 1.0725e+02, 1.7390e+01,\n",
       "       1.3500e+01, 2.8800e+01, 5.7400e+01, 1.9340e+01, 1.7100e+00,\n",
       "       2.7400e+00, 4.8000e+00, 1.3068e+02, 2.0380e+01, 1.1750e+01,\n",
       "       8.8100e+00, 2.0880e+01, 4.2000e+00, 2.2000e-01, 2.8130e+01,\n",
       "       1.5100e+00, 3.8000e+01, 2.8600e+01, 1.4880e+01, 3.6000e+01,\n",
       "       2.0300e+00, 1.3950e+01, 2.0200e+00, 3.2200e+01, 6.3800e+00,\n",
       "       5.5860e+01, 3.3750e+01, 2.5250e+01, 2.0440e+01, 1.3300e+00,\n",
       "       1.5380e+01, 7.1300e+00, 2.3500e+00, 1.6750e+01, 3.6800e+00,\n",
       "       1.1880e+02, 1.5280e+01, 4.2180e+01, 1.2380e+01, 7.4700e+00,\n",
       "       1.4440e+01, 1.3880e+01, 1.1200e+00, 1.2500e+01, 4.1000e-01,\n",
       "       1.0692e+02, 1.4130e+01, 2.1450e+01, 9.7250e+01, 2.6200e+00,\n",
       "       1.6650e+02, 1.8560e+01, 1.6900e+01, 1.6900e+00, 2.6000e-01,\n",
       "       1.8600e+01, 1.7750e+01, 8.5200e+01, 8.3600e+00, 2.8100e+00,\n",
       "       5.9880e+01, 4.7290e+01, 1.7150e+01, 1.9140e+01, 6.9710e+01,\n",
       "       2.0000e-01, 4.0130e+01, 4.7000e-01, 2.2910e+01, 4.1270e+01,\n",
       "       3.6400e+01, 1.4550e+01, 5.2000e+00, 5.5300e+00, 3.6000e-01,\n",
       "       2.0130e+01, 1.6610e+01, 8.1000e+00, 1.2000e+00, 4.3550e+01,\n",
       "       8.0000e-01, 1.2700e+00, 2.2050e+01, 3.4600e+00, 1.1231e+02,\n",
       "       1.3420e+01, 4.8000e+01, 6.3000e-01, 1.5000e+00, 2.5130e+01,\n",
       "       2.3450e+01, 2.0800e+02, 9.5000e-01, 2.6400e+00, 1.6570e+01,\n",
       "       1.8671e+02, 1.0050e+01, 9.9900e+01, 5.0600e+00, 3.3800e+01,\n",
       "       4.0950e+01, 1.0630e+01, 6.5330e+01, 8.8000e-01, 1.2630e+01,\n",
       "       1.1700e+00, 1.1020e+01, 6.3750e+01, 2.1021e+02, 2.2000e+00,\n",
       "       1.0800e+02, 3.1200e+01, 1.4530e+01, 1.3200e+01, 4.5600e+01,\n",
       "       8.1300e+00, 2.2000e+01, 9.2600e+00, 1.7380e+01, 5.9100e+00,\n",
       "       4.9500e+01, 2.4450e+01, 7.8000e+00, 1.7226e+02, 2.2040e+01,\n",
       "       5.3490e+01, 1.9600e+01, 2.2200e+00, 2.1130e+01, 1.6300e+00,\n",
       "       3.1500e+00, 4.4700e+00, 3.1000e-01, 6.0040e+01, 2.5550e+01,\n",
       "       1.1700e+01, 3.2300e+01, 1.4975e+02, 2.5100e+00, 2.5680e+01,\n",
       "       1.7400e+00, 2.3000e-01, 2.1600e+00, 1.0113e+02, 5.5090e+01,\n",
       "       1.9650e+01, 3.9250e+01, 1.2560e+01, 2.1500e+01, 3.3600e+01,\n",
       "       5.9800e+00, 1.7710e+01, 7.5250e+01, 6.5000e-01, 1.5190e+01,\n",
       "       5.2150e+01, 6.2500e+00, 2.9380e+01, 2.3800e+00, 4.1380e+01,\n",
       "       1.9250e+01, 2.1600e+01, 4.6500e+00, 1.0098e+02, 1.0850e+01,\n",
       "       6.5160e+01, 7.2250e+01, 8.0500e+00, 4.7400e+00, 1.1261e+02,\n",
       "       2.4100e+00, 1.3000e-01, 9.1900e+00, 1.5450e+02, 1.3700e+00,\n",
       "       1.8900e+01, 1.3000e+00, 1.5900e+00, 6.9900e+00, 2.4300e+01,\n",
       "       6.4700e+00, 1.2900e+00, 9.6000e+01, 4.2900e+01, 1.2750e+01,\n",
       "       3.2000e+01, 1.9600e+00, 9.4000e-01, 1.4313e+02, 1.7550e+01,\n",
       "       3.0500e+01, 2.2250e+01, 1.6000e-01, 4.3470e+01, 1.4750e+01,\n",
       "       7.0200e+00, 6.5100e+00, 4.7200e+00, 2.9130e+01, 2.5020e+01,\n",
       "       1.1900e+00, 4.9600e+01, 7.8000e+01, 2.0500e+01, 3.1050e+01,\n",
       "       1.1600e+00, 1.8400e+00, 4.0200e+00, 1.7000e+00, 1.9630e+01,\n",
       "       1.5015e+02, 1.6800e+01, 1.6000e+01, 3.7200e+01, 5.0250e+01,\n",
       "       1.7250e+01, 9.7000e-01, 3.1880e+01, 5.6000e-01, 4.4500e+01,\n",
       "       1.6400e+00, 3.8500e+01, 8.5000e+00, 1.2400e+00, 2.8930e+01,\n",
       "       5.0700e+01, 1.2775e+02, 9.0090e+01, 1.3490e+01, 2.6000e+01,\n",
       "       3.2830e+01, 1.4380e+01, 2.7300e+01, 2.8250e+01, 2.0816e+02,\n",
       "       5.7200e+00, 1.2070e+01, 2.4860e+01, 2.7600e+00, 1.8200e+00,\n",
       "       6.6600e+00, 1.0900e+00, 6.9000e-01, 9.0000e-01, 3.6000e+00,\n",
       "       6.9300e+01, 6.8080e+01, 3.4130e+01, 2.6600e+01, 1.4500e+01,\n",
       "       1.1050e+02, 3.5500e+00, 1.2940e+01, 2.8690e+01, 6.0000e+01,\n",
       "       6.2650e+01, 8.1000e-01, 2.3750e+01, 6.8800e+00, 2.4500e+00,\n",
       "       2.4000e-01, 2.0600e+00, 3.4000e-01, 2.2230e+01, 3.9500e+00,\n",
       "       1.2100e+00, 3.7700e+00, 2.8760e+01, 5.2850e+01, 1.4650e+02,\n",
       "       5.0490e+01, 2.5600e+00, 1.2090e+01, 4.5800e+00, 5.1450e+01,\n",
       "       4.8630e+01, 1.4850e+02, 2.1000e-01, 7.9000e-01, 1.8000e+00,\n",
       "       7.1600e+00, 7.1850e+01, 1.1500e+01, 9.0000e+00, 2.0690e+01,\n",
       "       5.1130e+01, 3.1250e+01, 8.9000e+00, 5.0400e+00, 1.1130e+01,\n",
       "       1.8250e+01, 1.1580e+01, 1.1800e+00, 8.2500e+00, 1.4950e+02,\n",
       "       1.7540e+01, 2.3970e+01, 3.7000e+01, 5.0130e+01, 8.8500e+00,\n",
       "       2.3730e+01, 1.0320e+01, 3.3500e+00, 6.8900e+01, 1.0822e+02,\n",
       "       2.6500e+01, 4.1800e+00, 1.7500e+00, 7.3450e+01, 2.4750e+01,\n",
       "       2.6276e+02, 4.8420e+01, 7.0250e+01, 1.5960e+01, 1.1630e+01,\n",
       "       9.3800e+00, 1.1200e+01, 3.9400e+00, 7.3250e+01, 6.3380e+01,\n",
       "       1.9130e+01, 1.1540e+01, 2.5700e+00, 4.1130e+01, 2.6400e+01,\n",
       "       7.9600e+00, 1.1286e+02, 9.8700e+00, 2.0000e-02, 6.4200e+00,\n",
       "       3.1000e+01, 3.7130e+01, 1.9950e+01, 7.7000e-01, 5.2330e+01,\n",
       "       4.5400e+00, 1.4790e+01, 2.2750e+01, 7.0000e-01, 3.0550e+01,\n",
       "       2.0280e+01, 6.3350e+01, 5.7130e+01, 1.9700e+00, 3.5630e+01,\n",
       "       1.9000e+01, 1.6410e+01, 1.6500e+00, 3.4750e+01, 2.7200e+00,\n",
       "       2.8180e+01, 8.5700e+00, 1.7850e+01, 2.9750e+01, 2.9600e+00,\n",
       "       6.9160e+01, 5.9000e+01, 1.9500e+00, 3.8500e+00, 1.1060e+01,\n",
       "       1.0250e+01, 1.1780e+01, 8.2100e+00, 1.2500e+00, 8.4000e-01,\n",
       "       1.4100e+01, 6.8200e+00, 6.9000e+00, 2.7360e+01, 8.7500e+00,\n",
       "       3.2100e+00, 3.0100e+00, 7.9500e+00, 1.2170e+01, 2.2360e+01,\n",
       "       3.0400e+00, 4.7880e+01, 2.2100e+00, 3.4380e+01, 7.9630e+01,\n",
       "       2.7000e+01, 6.6000e-01, 9.1300e+00, 1.6632e+02, 5.4500e+01,\n",
       "       3.6560e+01, 7.3500e+00, 6.8000e-01, 3.6100e+00, 1.2000e+01,\n",
       "       1.6600e+00, 4.0300e+00, 3.0800e+00, 1.2875e+02, 2.0995e+02,\n",
       "       9.9700e+00, 3.6200e+00, 5.5500e+00, 1.1100e+01, 3.2500e+00,\n",
       "       5.9150e+01, 7.4880e+01, 1.8200e+01, 5.5480e+01, 1.7050e+02,\n",
       "       1.8240e+01, 2.0850e+01, 4.6700e+00, 3.3950e+01, 4.3100e+00,\n",
       "       3.0000e+01, 2.0480e+01, 3.5380e+01, 6.5000e+00, 3.7600e+00,\n",
       "       5.0500e+01, 7.3600e+01, 2.1850e+01, 1.1720e+01, 3.2900e+00,\n",
       "       5.1300e+00, 6.3900e+00, 6.6700e+00, 3.8250e+01, 8.7000e+00,\n",
       "       1.4460e+01, 3.5590e+01, 2.6980e+01, 8.0440e+01, 7.2130e+01,\n",
       "       2.0820e+01, 4.5900e+00, 3.2660e+01, 2.2400e+01, 1.9350e+01,\n",
       "       7.4100e+01, 1.4700e+00, 2.9200e+00, 2.1000e+01, 1.8850e+01,\n",
       "       3.4500e+00, 3.4500e+01, 8.2600e+01, 5.2650e+01, 1.9900e+00,\n",
       "       2.3060e+01, 1.3475e+02, 2.8000e+01, 1.7820e+02, 8.9600e+00,\n",
       "       1.5000e-01, 7.1000e-01, 4.5500e+01, 2.5200e+01, 2.5840e+01,\n",
       "       5.9300e+00, 2.9500e+00, 2.0030e+01, 1.7160e+02, 8.1130e+01,\n",
       "       2.0800e+01, 2.0640e+01, 1.7200e+00, 1.2675e+02, 1.4256e+02,\n",
       "       3.0160e+01, 5.1980e+01, 4.6800e+01, 1.9050e+01, 4.0000e-02,\n",
       "       2.1300e+00, 4.9000e-01, 1.8380e+01, 1.0690e+01, 3.5300e+00,\n",
       "       6.7750e+01, 1.2600e+00, 4.4060e+01, 3.1540e+01, 1.6050e+01,\n",
       "       6.8500e+00, 8.9380e+01, 5.5000e+00, 3.1380e+01, 2.0250e+01,\n",
       "       1.0220e+01, 9.5500e+01, 1.6800e+00, 7.4260e+01, 6.1000e-01,\n",
       "       2.0700e+01, 3.8020e+01, 8.0300e+00, 1.7630e+01, 1.3400e+00,\n",
       "       8.7100e+00, 1.6090e+01, 2.5620e+01, 3.9000e+01, 5.9500e+01,\n",
       "       1.3210e+01, 2.2300e+00, 1.6640e+02, 2.4170e+01, 8.9960e+01,\n",
       "       3.0500e+00, 1.3690e+01, 1.3900e+00, 4.2000e+01, 8.0500e+01,\n",
       "       6.9250e+01, 1.3200e+00, 2.2730e+01, 3.8920e+01, 6.2000e+01,\n",
       "       1.6950e+01, 5.8000e-01, 2.3400e+00, 3.0900e+00, 6.4050e+01,\n",
       "       5.4600e+01, 1.6700e+01, 1.8414e+02, 8.0600e+00, 4.0600e+00,\n",
       "       3.7700e+01, 3.6300e+01, 2.3630e+01, 1.4800e+00, 3.9330e+01,\n",
       "       5.7750e+01, 2.1750e+01, 2.4850e+01, 4.9650e+01, 3.4250e+01,\n",
       "       4.1250e+01, 3.7300e+00, 4.3000e-01, 1.9990e+01, 5.2600e+00,\n",
       "       6.0380e+01, 1.5500e+00, 3.9000e+00, 3.0710e+01, 7.9250e+01,\n",
       "       1.5570e+01, 4.3060e+01, 4.4000e+00, 8.6800e+00, 1.6038e+02,\n",
       "       4.9730e+01, 1.1900e+01, 3.0750e+01, 2.3810e+01, 1.5440e+01,\n",
       "       1.0800e+00, 3.3900e+00, 2.3290e+01, 8.7700e+00, 1.0700e+00,\n",
       "       8.9900e+00, 7.5600e+01, 6.4550e+01, 1.5444e+02, 3.3300e+00,\n",
       "       1.0200e+00, 1.2300e+01, 6.2000e+00, 1.3406e+02, 1.1000e-01,\n",
       "       3.8700e+00, 6.1700e+00, 1.8630e+01, 1.0600e+00, 8.3000e-01,\n",
       "       7.8280e+01, 8.7600e+00, 7.1250e+01, 1.0100e+00, 2.5510e+01,\n",
       "       2.6550e+01, 2.8950e+01, 5.6000e+00, 3.1400e+00, 1.1340e+01,\n",
       "       2.1700e+00, 8.5000e-01, 3.5340e+01, 1.4630e+01, 5.0580e+01,\n",
       "       7.5000e-01, 4.0750e+01, 2.0960e+01, 3.8350e+01, 9.3600e+01,\n",
       "       2.4600e+00, 6.7000e-01, 2.7500e+01, 2.3250e+01, 7.9750e+01,\n",
       "       3.5000e+01, 6.5000e+01, 5.3800e+00, 2.4090e+01, 4.6000e+00,\n",
       "       1.4180e+01, 7.7130e+01, 1.6100e+00, 9.7200e+01, 1.8320e+01,\n",
       "       2.8700e+00, 5.1200e+01, 4.9100e+00, 1.3750e+01, 9.3000e-01,\n",
       "       2.4500e+01, 1.3860e+01, 5.3400e+00, 1.8000e-01, 1.5900e+01,\n",
       "       1.0255e+02, 5.5250e+01, 2.7300e+00, 4.5380e+01, 2.9570e+01,\n",
       "       2.0100e+00, 1.1110e+01, 1.2140e+01, 5.1400e+00, 3.2500e+01,\n",
       "       3.0250e+01, 6.4380e+01, 2.6590e+01, 1.0602e+02, 3.8000e+00,\n",
       "       2.4700e+00, 6.0500e+01, 5.1750e+01, 2.3600e+01, 1.2390e+01,\n",
       "       1.0300e+00, 2.6630e+01, 1.1083e+02, 2.5200e+00, 2.9000e+00,\n",
       "       2.8000e-01, 6.7300e+00, 2.2960e+01, 5.6000e+01, 2.1770e+01,\n",
       "       1.1520e+02, 6.5700e+00, 7.8900e+00, 1.1000e+01, 8.4900e+00,\n",
       "       1.8655e+02, 2.5480e+01, 1.9000e+00, 1.8040e+01, 3.8510e+01,\n",
       "       5.1200e+00, 2.0650e+01, 8.6000e-01, 1.1425e+02, 8.7000e-01,\n",
       "       4.3400e+01, 1.1800e+02, 1.6350e+01, 5.7300e+00, 6.5600e+00,\n",
       "       1.3000e+01, 2.6600e+00, 3.3130e+01, 1.0830e+01, 5.8350e+01,\n",
       "       2.8900e+00, 6.9600e+00, 1.6800e+02, 2.8280e+01, 1.6600e+01,\n",
       "       1.2960e+01, 8.4130e+01, 2.0000e+00, 1.5400e+00, 1.0330e+01,\n",
       "       4.9240e+01, 2.7560e+01, 1.9010e+01, 2.1700e+01, 8.5130e+01,\n",
       "       4.1300e+00, 5.4900e+01, 1.6160e+01, 1.0240e+02, 2.1900e+00,\n",
       "       2.8350e+02, 9.8000e-01, 2.1500e+00, 2.2500e+00, 7.1700e+00,\n",
       "       8.0000e+01, 1.6270e+01, 7.2000e+01, 1.3920e+01, 6.6250e+01,\n",
       "       3.6600e+00, 1.2300e+00, 4.6400e+00, 1.7290e+01, 3.2180e+01])"
      ]
     },
     "execution_count": 304,
     "metadata": {},
     "output_type": "execute_result"
    }
   ],
   "source": [
    "df_clean['Commision (in value)'].unique()"
   ]
  },
  {
   "cell_type": "code",
   "execution_count": 305,
   "metadata": {},
   "outputs": [
    {
     "data": {
      "text/plain": [
       "array([ 57,  33,  26,  59,  28,  36,  22,  39,  27,  48,  43,  51,  65,\n",
       "        47,  35,  54,  23,  46,  58,  42,  31,  29,  37,  68,   8,  32,\n",
       "        61,  49,  56,  25,  50,  34,  38,  44, 118,  45,  53,  20,  30,\n",
       "        41,  69,  52,  40,  70,  76,  74,  66,  63,  55,  21,  60,  75,\n",
       "        24,  62,  73,  64,  71,   5,  14,  72,  84,  81,  16,  19,  67,\n",
       "        83,  13,  79,  18,   9,  80,  17,  82,  78,  15,  77,  87,  88,\n",
       "        11,  12,  86,   7,  10,   2,   3,   1,   4,  85,   0], dtype=int64)"
      ]
     },
     "execution_count": 305,
     "metadata": {},
     "output_type": "execute_result"
    }
   ],
   "source": [
    "df_clean['Age'].unique()"
   ]
  },
  {
   "attachments": {},
   "cell_type": "markdown",
   "metadata": {},
   "source": [
    "### Feature Selection & Feature Engineering"
   ]
  },
  {
   "attachments": {},
   "cell_type": "markdown",
   "metadata": {},
   "source": [
    "We would be using all the features for our model. <br> But beforehand, we will convert all the categorical columns into numerical."
   ]
  },
  {
   "attachments": {},
   "cell_type": "markdown",
   "metadata": {},
   "source": [
    "First we convert our target column *Claim* from yes or no into 1 and 0 based on their respective class stated earlier; yes into 1 and no into 0."
   ]
  },
  {
   "cell_type": "code",
   "execution_count": 306,
   "metadata": {},
   "outputs": [],
   "source": [
    "# Convert 'Claim' column into 1s and 0s.\n",
    "df_clean['Claim'] = df_clean['Claim'].apply(lambda x: 0 if x == 'No' else 1)"
   ]
  },
  {
   "cell_type": "code",
   "execution_count": 307,
   "metadata": {},
   "outputs": [
    {
     "data": {
      "text/plain": [
       "0    43649\n",
       "1    677  \n",
       "Name: Claim, dtype: int64"
      ]
     },
     "execution_count": 307,
     "metadata": {},
     "output_type": "execute_result"
    }
   ],
   "source": [
    "df_clean['Claim'].value_counts()"
   ]
  },
  {
   "attachments": {},
   "cell_type": "markdown",
   "metadata": {},
   "source": [
    "We would be dropping the column `Distribution Channel` as most policy holders get their insurance via online channel."
   ]
  },
  {
   "attachments": {},
   "cell_type": "markdown",
   "metadata": {},
   "source": [
    "Next we will encode the categorical features:\n",
    "\n",
    "1. Encode columns `Agency`, `Product Name` and `Destination` with *Binary Encoding* because the categories in these columns do not have order and the number of unique values are a lot.\n",
    "2. Encode columns `Agency Type`, and `Gender` with *One Hot Encoding* because the categories in these columns do not have order and the number of unique values are few."
   ]
  },
  {
   "cell_type": "code",
   "execution_count": 308,
   "metadata": {},
   "outputs": [
    {
     "data": {
      "text/html": [
       "<div>\n",
       "<style scoped>\n",
       "    .dataframe tbody tr th:only-of-type {\n",
       "        vertical-align: middle;\n",
       "    }\n",
       "\n",
       "    .dataframe tbody tr th {\n",
       "        vertical-align: top;\n",
       "    }\n",
       "\n",
       "    .dataframe thead th {\n",
       "        text-align: right;\n",
       "    }\n",
       "</style>\n",
       "<table border=\"1\" class=\"dataframe\">\n",
       "  <thead>\n",
       "    <tr style=\"text-align: right;\">\n",
       "      <th></th>\n",
       "      <th>Agency</th>\n",
       "      <th>Agency Type</th>\n",
       "      <th>Distribution Channel</th>\n",
       "      <th>Product Name</th>\n",
       "      <th>Gender</th>\n",
       "      <th>Duration</th>\n",
       "      <th>Destination</th>\n",
       "      <th>Net Sales</th>\n",
       "      <th>Commision (in value)</th>\n",
       "      <th>Age</th>\n",
       "      <th>Claim</th>\n",
       "    </tr>\n",
       "  </thead>\n",
       "  <tbody>\n",
       "    <tr>\n",
       "      <th>0</th>\n",
       "      <td>C2B</td>\n",
       "      <td>Airlines</td>\n",
       "      <td>Online</td>\n",
       "      <td>Annual Silver Plan</td>\n",
       "      <td>F</td>\n",
       "      <td>365</td>\n",
       "      <td>SINGAPORE</td>\n",
       "      <td>216.0</td>\n",
       "      <td>54.0</td>\n",
       "      <td>57</td>\n",
       "      <td>0</td>\n",
       "    </tr>\n",
       "    <tr>\n",
       "      <th>1</th>\n",
       "      <td>EPX</td>\n",
       "      <td>Travel Agency</td>\n",
       "      <td>Online</td>\n",
       "      <td>Cancellation Plan</td>\n",
       "      <td>unspecified</td>\n",
       "      <td>4</td>\n",
       "      <td>MALAYSIA</td>\n",
       "      <td>10.0</td>\n",
       "      <td>0.0</td>\n",
       "      <td>33</td>\n",
       "      <td>0</td>\n",
       "    </tr>\n",
       "    <tr>\n",
       "      <th>2</th>\n",
       "      <td>JZI</td>\n",
       "      <td>Airlines</td>\n",
       "      <td>Online</td>\n",
       "      <td>Basic Plan</td>\n",
       "      <td>M</td>\n",
       "      <td>19</td>\n",
       "      <td>INDIA</td>\n",
       "      <td>22.0</td>\n",
       "      <td>7.7</td>\n",
       "      <td>26</td>\n",
       "      <td>0</td>\n",
       "    </tr>\n",
       "    <tr>\n",
       "      <th>3</th>\n",
       "      <td>EPX</td>\n",
       "      <td>Travel Agency</td>\n",
       "      <td>Online</td>\n",
       "      <td>2 way Comprehensive Plan</td>\n",
       "      <td>unspecified</td>\n",
       "      <td>20</td>\n",
       "      <td>UNITED STATES</td>\n",
       "      <td>112.0</td>\n",
       "      <td>0.0</td>\n",
       "      <td>59</td>\n",
       "      <td>0</td>\n",
       "    </tr>\n",
       "    <tr>\n",
       "      <th>4</th>\n",
       "      <td>C2B</td>\n",
       "      <td>Airlines</td>\n",
       "      <td>Online</td>\n",
       "      <td>Bronze Plan</td>\n",
       "      <td>M</td>\n",
       "      <td>8</td>\n",
       "      <td>SINGAPORE</td>\n",
       "      <td>16.0</td>\n",
       "      <td>4.0</td>\n",
       "      <td>28</td>\n",
       "      <td>0</td>\n",
       "    </tr>\n",
       "  </tbody>\n",
       "</table>\n",
       "</div>"
      ],
      "text/plain": [
       "  Agency    Agency Type Distribution Channel              Product Name  \\\n",
       "0  C2B    Airlines       Online               Annual Silver Plan         \n",
       "1  EPX    Travel Agency  Online               Cancellation Plan          \n",
       "2  JZI    Airlines       Online               Basic Plan                 \n",
       "3  EPX    Travel Agency  Online               2 way Comprehensive Plan   \n",
       "4  C2B    Airlines       Online               Bronze Plan                \n",
       "\n",
       "        Gender  Duration    Destination  Net Sales  Commision (in value)  Age  \\\n",
       "0  F            365       SINGAPORE      216.0      54.0                  57    \n",
       "1  unspecified  4         MALAYSIA       10.0       0.0                   33    \n",
       "2  M            19        INDIA          22.0       7.7                   26    \n",
       "3  unspecified  20        UNITED STATES  112.0      0.0                   59    \n",
       "4  M            8         SINGAPORE      16.0       4.0                   28    \n",
       "\n",
       "   Claim  \n",
       "0  0      \n",
       "1  0      \n",
       "2  0      \n",
       "3  0      \n",
       "4  0      "
      ]
     },
     "execution_count": 308,
     "metadata": {},
     "output_type": "execute_result"
    }
   ],
   "source": [
    "df_clean.head()"
   ]
  },
  {
   "cell_type": "code",
   "execution_count": 309,
   "metadata": {},
   "outputs": [],
   "source": [
    "# Categorical features into numerical\n",
    "transformer = ColumnTransformer([\n",
    "    ('onehot', OneHotEncoder(drop= 'first'), ['Agency Type', 'Gender']),\n",
    "    ('binary', ce.BinaryEncoder(), ['Agency', 'Product Name', 'Destination'])\n",
    "], remainder= 'passthrough')"
   ]
  },
  {
   "cell_type": "code",
   "execution_count": 310,
   "metadata": {},
   "outputs": [],
   "source": [
    "# Define X and y\n",
    "X = df_clean.drop(columns= ['Claim', 'Distribution Channel'], axis= 1)\n",
    "y = df_clean['Claim']"
   ]
  },
  {
   "cell_type": "code",
   "execution_count": 311,
   "metadata": {},
   "outputs": [],
   "source": [
    "# Splitting testing and training data with 20:80 proportion\n",
    "X_train, X_test, y_train, y_test= train_test_split(\n",
    "    X,\n",
    "    y,\n",
    "    stratify= y,  \n",
    "    test_size= 0.2,\n",
    "    random_state= 2023)"
   ]
  },
  {
   "attachments": {},
   "cell_type": "markdown",
   "metadata": {},
   "source": [
    "## Modeling"
   ]
  },
  {
   "cell_type": "code",
   "execution_count": 312,
   "metadata": {},
   "outputs": [],
   "source": [
    "# Algorithm to be used\n",
    "logreg = LogisticRegression()\n",
    "knn = KNeighborsClassifier()\n",
    "tree = DecisionTreeClassifier()\n",
    "rf = RandomForestClassifier()"
   ]
  },
  {
   "attachments": {},
   "cell_type": "markdown",
   "metadata": {},
   "source": [
    "### Model Benchmarking : K-Fold"
   ]
  },
  {
   "cell_type": "code",
   "execution_count": 313,
   "metadata": {},
   "outputs": [
    {
     "data": {
      "text/html": [
       "<div>\n",
       "<style scoped>\n",
       "    .dataframe tbody tr th:only-of-type {\n",
       "        vertical-align: middle;\n",
       "    }\n",
       "\n",
       "    .dataframe tbody tr th {\n",
       "        vertical-align: top;\n",
       "    }\n",
       "\n",
       "    .dataframe thead th {\n",
       "        text-align: right;\n",
       "    }\n",
       "</style>\n",
       "<table border=\"1\" class=\"dataframe\">\n",
       "  <thead>\n",
       "    <tr style=\"text-align: right;\">\n",
       "      <th></th>\n",
       "      <th>mean precision</th>\n",
       "      <th>std</th>\n",
       "    </tr>\n",
       "    <tr>\n",
       "      <th>model</th>\n",
       "      <th></th>\n",
       "      <th></th>\n",
       "    </tr>\n",
       "  </thead>\n",
       "  <tbody>\n",
       "    <tr>\n",
       "      <th>Random Forest</th>\n",
       "      <td>0.105035</td>\n",
       "      <td>0.060753</td>\n",
       "    </tr>\n",
       "    <tr>\n",
       "      <th>Decision Tree</th>\n",
       "      <td>0.049652</td>\n",
       "      <td>0.010320</td>\n",
       "    </tr>\n",
       "    <tr>\n",
       "      <th>KNN</th>\n",
       "      <td>0.028571</td>\n",
       "      <td>0.057143</td>\n",
       "    </tr>\n",
       "    <tr>\n",
       "      <th>Logistic Regression</th>\n",
       "      <td>0.000000</td>\n",
       "      <td>0.000000</td>\n",
       "    </tr>\n",
       "  </tbody>\n",
       "</table>\n",
       "</div>"
      ],
      "text/plain": [
       "                     mean precision       std\n",
       "model                                        \n",
       "Random Forest        0.105035        0.060753\n",
       "Decision Tree        0.049652        0.010320\n",
       "KNN                  0.028571        0.057143\n",
       "Logistic Regression  0.000000        0.000000"
      ]
     },
     "execution_count": 313,
     "metadata": {},
     "output_type": "execute_result"
    }
   ],
   "source": [
    "# Cross validation\n",
    "\n",
    "# Models\n",
    "models = [logreg, knn, tree, rf]\n",
    "\n",
    "score_precision = []\n",
    "mean_precision = []\n",
    "std_precision = []\n",
    "\n",
    "# Loop every models for each metrics\n",
    "for i in models:\n",
    "\n",
    "    crossval = StratifiedKFold(n_splits= 5)\n",
    "\n",
    "    estimator = Pipeline([\n",
    "        ('preprocessing', transformer),\n",
    "        ('model', i)\n",
    "    ])\n",
    "\n",
    "    # precision\n",
    "    model_cv_precision = cross_val_score(\n",
    "        estimator, \n",
    "        X_train, \n",
    "        y_train, \n",
    "        cv= crossval,\n",
    "        scoring= 'precision')\n",
    "\n",
    "    # print(model_cv_precision, i)\n",
    "\n",
    "    score_precision.append(model_cv_precision)\n",
    "    mean_precision.append(model_cv_precision.mean())\n",
    "    std_precision.append(model_cv_precision.std())\n",
    "\n",
    "precision_before_tuning = pd.DataFrame({'model': ['Logistic Regression', 'KNN', 'Decision Tree', 'Random Forest'],'mean precision': mean_precision, 'std': std_precision}).set_index('model').sort_values(by= 'mean precision', ascending= False)\n",
    "precision_before_tuning\n"
   ]
  },
  {
   "attachments": {},
   "cell_type": "markdown",
   "metadata": {},
   "source": [
    "The best algorithm based on the mean precision score using default parameters is `Random Forest`. However all of the scores are very low (<10%)"
   ]
  },
  {
   "attachments": {},
   "cell_type": "markdown",
   "metadata": {},
   "source": [
    "### Model Benchmarking : Test Data"
   ]
  },
  {
   "cell_type": "code",
   "execution_count": 314,
   "metadata": {},
   "outputs": [
    {
     "name": "stdout",
     "output_type": "stream",
     "text": [
      "Logistic Regression \n",
      "               precision    recall  f1-score   support\n",
      "\n",
      "           0       0.98      1.00      0.99      8731\n",
      "           1       0.00      0.00      0.00       135\n",
      "\n",
      "    accuracy                           0.98      8866\n",
      "   macro avg       0.49      0.50      0.50      8866\n",
      "weighted avg       0.97      0.98      0.98      8866\n",
      "\n",
      "KNN \n",
      "               precision    recall  f1-score   support\n",
      "\n",
      "           0       0.98      1.00      0.99      8731\n",
      "           1       0.00      0.00      0.00       135\n",
      "\n",
      "    accuracy                           0.98      8866\n",
      "   macro avg       0.49      0.50      0.50      8866\n",
      "weighted avg       0.97      0.98      0.98      8866\n",
      "\n",
      "Decision Tree \n",
      "               precision    recall  f1-score   support\n",
      "\n",
      "           0       0.99      0.98      0.98      8731\n",
      "           1       0.06      0.08      0.07       135\n",
      "\n",
      "    accuracy                           0.97      8866\n",
      "   macro avg       0.52      0.53      0.53      8866\n",
      "weighted avg       0.97      0.97      0.97      8866\n",
      "\n",
      "Random Forest \n",
      "               precision    recall  f1-score   support\n",
      "\n",
      "           0       0.99      1.00      0.99      8731\n",
      "           1       0.17      0.02      0.04       135\n",
      "\n",
      "    accuracy                           0.98      8866\n",
      "   macro avg       0.58      0.51      0.52      8866\n",
      "weighted avg       0.97      0.98      0.98      8866\n",
      "\n"
     ]
    }
   ],
   "source": [
    "models = [logreg, knn, tree, rf]\n",
    "score_precision = []\n",
    "\n",
    "def y_pred_function(i):\n",
    "    estimator= Pipeline([\n",
    "        ('preprocess', transformer),\n",
    "        ('model', i)])\n",
    "    X_train, X_test\n",
    "    \n",
    "    estimator.fit(X_train, y_train)\n",
    "    return(estimator, estimator.predict(X_test), X_test)\n",
    "\n",
    "for i, j in zip(models, ['Logistic Regression', 'KNN', 'Decision Tree', 'Random Forest']):\n",
    "    estimator, y_pred, X_test = y_pred_function(i)\n",
    "    print(j,'\\n', classification_report(y_test, y_pred))"
   ]
  },
  {
   "attachments": {},
   "cell_type": "markdown",
   "metadata": {},
   "source": [
    "With the test data `Random Forest` has the best performance but only with a precision score of 0.11 in guessing the positive class."
   ]
  },
  {
   "attachments": {},
   "cell_type": "markdown",
   "metadata": {},
   "source": [
    "Since the dataset is highly imbalanced with a 98% to 2% ratio, let's try to compare undersampling and oversampling method on the dataset."
   ]
  },
  {
   "attachments": {},
   "cell_type": "markdown",
   "metadata": {},
   "source": [
    "### Random Under Sampling"
   ]
  },
  {
   "cell_type": "code",
   "execution_count": 315,
   "metadata": {},
   "outputs": [],
   "source": [
    "from imblearn.under_sampling import RandomUnderSampler"
   ]
  },
  {
   "attachments": {},
   "cell_type": "markdown",
   "metadata": {},
   "source": [
    "We make the majority class (not claim) and reduce them to make it have the same portion as the minority class (claim)"
   ]
  },
  {
   "cell_type": "code",
   "execution_count": 316,
   "metadata": {},
   "outputs": [
    {
     "data": {
      "image/png": "[encoded data removed]",
      "text/plain": [
       "<Figure size 432x288 with 1 Axes>"
      ]
     },
     "metadata": {},
     "output_type": "display_data"
    }
   ],
   "source": [
    "rus = RandomUnderSampler(sampling_strategy= 1)\n",
    "\n",
    "X_res, y_res = rus.fit_resample(X, y)\n",
    "\n",
    "ax = y_res.value_counts().plot.pie(autopct= '%.2f')\n",
    "_ = ax.set_title(\"Under Sapmling\")"
   ]
  },
  {
   "cell_type": "code",
   "execution_count": 317,
   "metadata": {},
   "outputs": [
    {
     "data": {
      "text/plain": [
       "0    43649\n",
       "1    677  \n",
       "Name: Claim, dtype: int64"
      ]
     },
     "execution_count": 317,
     "metadata": {},
     "output_type": "execute_result"
    }
   ],
   "source": [
    "df_clean['Claim'].value_counts()"
   ]
  },
  {
   "cell_type": "code",
   "execution_count": 318,
   "metadata": {},
   "outputs": [
    {
     "data": {
      "text/plain": [
       "0    677\n",
       "1    677\n",
       "Name: Claim, dtype: int64"
      ]
     },
     "execution_count": 318,
     "metadata": {},
     "output_type": "execute_result"
    }
   ],
   "source": [
    "y_res.value_counts()"
   ]
  },
  {
   "attachments": {},
   "cell_type": "markdown",
   "metadata": {},
   "source": [
    "Can be seen from above, our target (y_res) classes are now balanced."
   ]
  },
  {
   "cell_type": "code",
   "execution_count": 319,
   "metadata": {},
   "outputs": [],
   "source": [
    "# Train test split with balanced data\n",
    "\n",
    "X_train_rus, X_test_rus, y_train_rus, y_test_rus= train_test_split(\n",
    "    X_res,\n",
    "    y_res,\n",
    "    stratify= y_res,  \n",
    "    test_size= 0.2,\n",
    "    random_state= 2023)"
   ]
  },
  {
   "cell_type": "code",
   "execution_count": 320,
   "metadata": {},
   "outputs": [
    {
     "data": {
      "text/html": [
       "<div>\n",
       "<style scoped>\n",
       "    .dataframe tbody tr th:only-of-type {\n",
       "        vertical-align: middle;\n",
       "    }\n",
       "\n",
       "    .dataframe tbody tr th {\n",
       "        vertical-align: top;\n",
       "    }\n",
       "\n",
       "    .dataframe thead th {\n",
       "        text-align: right;\n",
       "    }\n",
       "</style>\n",
       "<table border=\"1\" class=\"dataframe\">\n",
       "  <thead>\n",
       "    <tr style=\"text-align: right;\">\n",
       "      <th></th>\n",
       "      <th>mean precision</th>\n",
       "      <th>std</th>\n",
       "    </tr>\n",
       "    <tr>\n",
       "      <th>model</th>\n",
       "      <th></th>\n",
       "      <th></th>\n",
       "    </tr>\n",
       "  </thead>\n",
       "  <tbody>\n",
       "    <tr>\n",
       "      <th>Logistic Regression</th>\n",
       "      <td>0.782064</td>\n",
       "      <td>0.045056</td>\n",
       "    </tr>\n",
       "    <tr>\n",
       "      <th>Random Forest</th>\n",
       "      <td>0.737473</td>\n",
       "      <td>0.034048</td>\n",
       "    </tr>\n",
       "    <tr>\n",
       "      <th>Decision Tree</th>\n",
       "      <td>0.664871</td>\n",
       "      <td>0.029621</td>\n",
       "    </tr>\n",
       "    <tr>\n",
       "      <th>KNN</th>\n",
       "      <td>0.653388</td>\n",
       "      <td>0.029955</td>\n",
       "    </tr>\n",
       "  </tbody>\n",
       "</table>\n",
       "</div>"
      ],
      "text/plain": [
       "                     mean precision       std\n",
       "model                                        \n",
       "Logistic Regression  0.782064        0.045056\n",
       "Random Forest        0.737473        0.034048\n",
       "Decision Tree        0.664871        0.029621\n",
       "KNN                  0.653388        0.029955"
      ]
     },
     "execution_count": 320,
     "metadata": {},
     "output_type": "execute_result"
    }
   ],
   "source": [
    "# Cross validation With balanced data\n",
    "\n",
    "# Models\n",
    "models = [logreg, knn, tree, rf]\n",
    "\n",
    "score_precision = []\n",
    "mean_precision = []\n",
    "std_precision = []\n",
    "\n",
    "# Loop every models for each metrics\n",
    "for i in models:\n",
    "\n",
    "    crossval = StratifiedKFold(n_splits= 5)\n",
    "\n",
    "    pipe = Pipeline([\n",
    "        ('preprocessing', transformer),\n",
    "        ('model', i)\n",
    "    ])\n",
    "\n",
    "    # precision\n",
    "    model_cv_precision = cross_val_score(\n",
    "        pipe, \n",
    "        X_train_rus, \n",
    "        y_train_rus, \n",
    "        cv= crossval,\n",
    "        scoring= 'precision')\n",
    "\n",
    "    # print(model_cv_precision, i)\n",
    "\n",
    "    score_precision.append(model_cv_precision)\n",
    "    mean_precision.append(model_cv_precision.mean())\n",
    "    std_precision.append(model_cv_precision.std())\n",
    "\n",
    "precision_before_tuning_rus = pd.DataFrame({'model': ['Logistic Regression', 'KNN', 'Decision Tree', 'Random Forest'],'mean precision': mean_precision, 'std': std_precision}).set_index('model').sort_values(by= 'mean precision', ascending= False)\n",
    "precision_before_tuning_rus"
   ]
  },
  {
   "attachments": {},
   "cell_type": "markdown",
   "metadata": {},
   "source": [
    "Now lets try with random over sampling."
   ]
  },
  {
   "cell_type": "code",
   "execution_count": 321,
   "metadata": {},
   "outputs": [
    {
     "data": {
      "image/png": "[encoded data removed]",
      "text/plain": [
       "<Figure size 432x288 with 1 Axes>"
      ]
     },
     "metadata": {},
     "output_type": "display_data"
    }
   ],
   "source": [
    "from imblearn.over_sampling import RandomOverSampler\n",
    "\n",
    "ros = RandomOverSampler(sampling_strategy= 'minority')\n",
    "\n",
    "X_ros, y_ros = ros.fit_resample(X, y)\n",
    "\n",
    "ax = y_ros.value_counts().plot.pie(autopct= '%.2f')\n",
    "_ = ax.set_title(\"Over Sapmling\")"
   ]
  },
  {
   "cell_type": "code",
   "execution_count": 322,
   "metadata": {},
   "outputs": [
    {
     "data": {
      "text/plain": [
       "0    43649\n",
       "1    677  \n",
       "Name: Claim, dtype: int64"
      ]
     },
     "execution_count": 322,
     "metadata": {},
     "output_type": "execute_result"
    }
   ],
   "source": [
    "df_clean['Claim'].value_counts()"
   ]
  },
  {
   "cell_type": "code",
   "execution_count": 323,
   "metadata": {},
   "outputs": [
    {
     "data": {
      "text/plain": [
       "0    43649\n",
       "1    43649\n",
       "Name: Claim, dtype: int64"
      ]
     },
     "execution_count": 323,
     "metadata": {},
     "output_type": "execute_result"
    }
   ],
   "source": [
    "y_ros.value_counts()"
   ]
  },
  {
   "cell_type": "code",
   "execution_count": 324,
   "metadata": {},
   "outputs": [],
   "source": [
    "# Train test split with balanced data\n",
    "\n",
    "X_train_ros, X_test_ros, y_train_ros, y_test_ros= train_test_split(\n",
    "    X_ros,\n",
    "    y_ros,\n",
    "    stratify= y_ros,  \n",
    "    test_size= 0.2,\n",
    "    random_state= 2023)"
   ]
  },
  {
   "cell_type": "code",
   "execution_count": 325,
   "metadata": {},
   "outputs": [
    {
     "data": {
      "text/html": [
       "<div>\n",
       "<style scoped>\n",
       "    .dataframe tbody tr th:only-of-type {\n",
       "        vertical-align: middle;\n",
       "    }\n",
       "\n",
       "    .dataframe tbody tr th {\n",
       "        vertical-align: top;\n",
       "    }\n",
       "\n",
       "    .dataframe thead th {\n",
       "        text-align: right;\n",
       "    }\n",
       "</style>\n",
       "<table border=\"1\" class=\"dataframe\">\n",
       "  <thead>\n",
       "    <tr style=\"text-align: right;\">\n",
       "      <th></th>\n",
       "      <th>mean precision</th>\n",
       "      <th>std</th>\n",
       "    </tr>\n",
       "    <tr>\n",
       "      <th>model</th>\n",
       "      <th></th>\n",
       "      <th></th>\n",
       "    </tr>\n",
       "  </thead>\n",
       "  <tbody>\n",
       "    <tr>\n",
       "      <th>Random Forest</th>\n",
       "      <td>0.987083</td>\n",
       "      <td>0.001086</td>\n",
       "    </tr>\n",
       "    <tr>\n",
       "      <th>Decision Tree</th>\n",
       "      <td>0.978540</td>\n",
       "      <td>0.002374</td>\n",
       "    </tr>\n",
       "    <tr>\n",
       "      <th>KNN</th>\n",
       "      <td>0.936625</td>\n",
       "      <td>0.002459</td>\n",
       "    </tr>\n",
       "    <tr>\n",
       "      <th>Logistic Regression</th>\n",
       "      <td>0.786104</td>\n",
       "      <td>0.004258</td>\n",
       "    </tr>\n",
       "  </tbody>\n",
       "</table>\n",
       "</div>"
      ],
      "text/plain": [
       "                     mean precision       std\n",
       "model                                        \n",
       "Random Forest        0.987083        0.001086\n",
       "Decision Tree        0.978540        0.002374\n",
       "KNN                  0.936625        0.002459\n",
       "Logistic Regression  0.786104        0.004258"
      ]
     },
     "execution_count": 325,
     "metadata": {},
     "output_type": "execute_result"
    }
   ],
   "source": [
    "# Cross validation With balanced data\n",
    "\n",
    "# Models\n",
    "models = [logreg, knn, tree, rf]\n",
    "\n",
    "score_precision = []\n",
    "mean_precision = []\n",
    "std_precision = []\n",
    "\n",
    "# Loop every models for each metrics\n",
    "for i in models:\n",
    "\n",
    "    crossval = StratifiedKFold(n_splits= 5)\n",
    "\n",
    "    pipe = Pipeline([\n",
    "        ('preprocessing', transformer),\n",
    "        ('model', i)\n",
    "    ])\n",
    "\n",
    "    # precision\n",
    "    model_cv_precision = cross_val_score(\n",
    "        pipe, \n",
    "        X_train_ros, \n",
    "        y_train_ros, \n",
    "        cv= crossval,\n",
    "        scoring= 'precision')\n",
    "\n",
    "    # print(model_cv_precision, i)\n",
    "\n",
    "    score_precision.append(model_cv_precision)\n",
    "    mean_precision.append(model_cv_precision.mean())\n",
    "    std_precision.append(model_cv_precision.std())\n",
    "\n",
    "precision_before_tuning_ros = pd.DataFrame({'model': ['Logistic Regression', 'KNN', 'Decision Tree', 'Random Forest'],'mean precision': mean_precision, 'std': std_precision}).set_index('model').sort_values(by= 'mean precision', ascending= False)\n",
    "precision_before_tuning_ros"
   ]
  },
  {
   "attachments": {},
   "cell_type": "markdown",
   "metadata": {},
   "source": [
    "With balancing treatment from both random under and over sampling, it greatly improved the precision mean score."
   ]
  },
  {
   "attachments": {},
   "cell_type": "markdown",
   "metadata": {},
   "source": [
    "Because we want to use \"real\" data we would be using undersampling even though we lose a significant amount of information."
   ]
  },
  {
   "cell_type": "code",
   "execution_count": 326,
   "metadata": {},
   "outputs": [
    {
     "data": {
      "text/html": [
       "<div>\n",
       "<style scoped>\n",
       "    .dataframe tbody tr th:only-of-type {\n",
       "        vertical-align: middle;\n",
       "    }\n",
       "\n",
       "    .dataframe tbody tr th {\n",
       "        vertical-align: top;\n",
       "    }\n",
       "\n",
       "    .dataframe thead th {\n",
       "        text-align: right;\n",
       "    }\n",
       "</style>\n",
       "<table border=\"1\" class=\"dataframe\">\n",
       "  <thead>\n",
       "    <tr style=\"text-align: right;\">\n",
       "      <th></th>\n",
       "      <th>mean precision</th>\n",
       "      <th>std</th>\n",
       "    </tr>\n",
       "    <tr>\n",
       "      <th>model</th>\n",
       "      <th></th>\n",
       "      <th></th>\n",
       "    </tr>\n",
       "  </thead>\n",
       "  <tbody>\n",
       "    <tr>\n",
       "      <th>Logistic Regression</th>\n",
       "      <td>0.782064</td>\n",
       "      <td>0.045056</td>\n",
       "    </tr>\n",
       "    <tr>\n",
       "      <th>Random Forest</th>\n",
       "      <td>0.737473</td>\n",
       "      <td>0.034048</td>\n",
       "    </tr>\n",
       "    <tr>\n",
       "      <th>Decision Tree</th>\n",
       "      <td>0.664871</td>\n",
       "      <td>0.029621</td>\n",
       "    </tr>\n",
       "    <tr>\n",
       "      <th>KNN</th>\n",
       "      <td>0.653388</td>\n",
       "      <td>0.029955</td>\n",
       "    </tr>\n",
       "  </tbody>\n",
       "</table>\n",
       "</div>"
      ],
      "text/plain": [
       "                     mean precision       std\n",
       "model                                        \n",
       "Logistic Regression  0.782064        0.045056\n",
       "Random Forest        0.737473        0.034048\n",
       "Decision Tree        0.664871        0.029621\n",
       "KNN                  0.653388        0.029955"
      ]
     },
     "execution_count": 326,
     "metadata": {},
     "output_type": "execute_result"
    }
   ],
   "source": [
    "precision_before_tuning_rus"
   ]
  },
  {
   "attachments": {},
   "cell_type": "markdown",
   "metadata": {},
   "source": [
    "From under sampling the data it can be seen that `Logistic Regression` is the best algorithm with mean precision of 79%, followed by `Random Forest`."
   ]
  },
  {
   "attachments": {},
   "cell_type": "markdown",
   "metadata": {},
   "source": [
    "Next lets tune the Logistic Regression algorithm to see if we can increase the precision score."
   ]
  },
  {
   "attachments": {},
   "cell_type": "markdown",
   "metadata": {},
   "source": [
    "#### Hyperparameter Tuning"
   ]
  },
  {
   "cell_type": "code",
   "execution_count": 327,
   "metadata": {},
   "outputs": [],
   "source": [
    "logreg = LogisticRegression()\n",
    "\n",
    "tuning_pipe = Pipeline([\n",
    "    ('preprocess', transformer),\n",
    "    ('model', logreg)\n",
    "])\n",
    "\n",
    "hyperparam_space = {\n",
    "    'model__penalty': ['l2', 'l1', 'elasticnet'],\n",
    "    'model__C': [0.1, 1.0, 10.0],\n",
    "    'model__fit_intercept': [True, False],\n",
    "    'model__solver': ['lbfgs', 'sag', 'saga'],\n",
    "    'model__max_iter': [100, 500],\n",
    "    'model__multi_class': ['auto', 'ovr']\n",
    "}\n",
    "\n",
    "skf = StratifiedKFold(n_splits = 5)\n",
    "\n",
    "grid_search = GridSearchCV(\n",
    "    tuning_pipe, \n",
    "    param_grid = hyperparam_space, \n",
    "    cv = skf,\n",
    "    scoring = 'precision', \n",
    "    n_jobs = -1\n",
    ")"
   ]
  },
  {
   "attachments": {},
   "cell_type": "markdown",
   "metadata": {},
   "source": [
    "Logistic Regression default parameters: penalty= 'l2', dual=False, tol=0.0001, C=1.0, fit_intercept=True, intercept_scaling=1, class_weight=None, random_state=None, solver='lbfgs', max_iter=100, multi_class='auto', verbose=0, warm_start=False, n_jobs=None, l1_ratio=None."
   ]
  },
  {
   "cell_type": "code",
   "execution_count": 328,
   "metadata": {},
   "outputs": [
    {
     "data": {
      "text/html": [
       "<style>#sk-container-id-3 {color: black;background-color: white;}#sk-container-id-3 pre{padding: 0;}#sk-container-id-3 div.sk-toggleable {background-color: white;}#sk-container-id-3 label.sk-toggleable__label {cursor: pointer;display: block;width: 100%;margin-bottom: 0;padding: 0.3em;box-sizing: border-box;text-align: center;}#sk-container-id-3 label.sk-toggleable__label-arrow:before {content: \"▸\";float: left;margin-right: 0.25em;color: #696969;}#sk-container-id-3 label.sk-toggleable__label-arrow:hover:before {color: black;}#sk-container-id-3 div.sk-estimator:hover label.sk-toggleable__label-arrow:before {color: black;}#sk-container-id-3 div.sk-toggleable__content {max-height: 0;max-width: 0;overflow: hidden;text-align: left;background-color: #f0f8ff;}#sk-container-id-3 div.sk-toggleable__content pre {margin: 0.2em;color: black;border-radius: 0.25em;background-color: #f0f8ff;}#sk-container-id-3 input.sk-toggleable__control:checked~div.sk-toggleable__content {max-height: 200px;max-width: 100%;overflow: auto;}#sk-container-id-3 input.sk-toggleable__control:checked~label.sk-toggleable__label-arrow:before {content: \"▾\";}#sk-container-id-3 div.sk-estimator input.sk-toggleable__control:checked~label.sk-toggleable__label {background-color: #d4ebff;}#sk-container-id-3 div.sk-label input.sk-toggleable__control:checked~label.sk-toggleable__label {background-color: #d4ebff;}#sk-container-id-3 input.sk-hidden--visually {border: 0;clip: rect(1px 1px 1px 1px);clip: rect(1px, 1px, 1px, 1px);height: 1px;margin: -1px;overflow: hidden;padding: 0;position: absolute;width: 1px;}#sk-container-id-3 div.sk-estimator {font-family: monospace;background-color: #f0f8ff;border: 1px dotted black;border-radius: 0.25em;box-sizing: border-box;margin-bottom: 0.5em;}#sk-container-id-3 div.sk-estimator:hover {background-color: #d4ebff;}#sk-container-id-3 div.sk-parallel-item::after {content: \"\";width: 100%;border-bottom: 1px solid gray;flex-grow: 1;}#sk-container-id-3 div.sk-label:hover label.sk-toggleable__label {background-color: #d4ebff;}#sk-container-id-3 div.sk-serial::before {content: \"\";position: absolute;border-left: 1px solid gray;box-sizing: border-box;top: 0;bottom: 0;left: 50%;z-index: 0;}#sk-container-id-3 div.sk-serial {display: flex;flex-direction: column;align-items: center;background-color: white;padding-right: 0.2em;padding-left: 0.2em;position: relative;}#sk-container-id-3 div.sk-item {position: relative;z-index: 1;}#sk-container-id-3 div.sk-parallel {display: flex;align-items: stretch;justify-content: center;background-color: white;position: relative;}#sk-container-id-3 div.sk-item::before, #sk-container-id-3 div.sk-parallel-item::before {content: \"\";position: absolute;border-left: 1px solid gray;box-sizing: border-box;top: 0;bottom: 0;left: 50%;z-index: -1;}#sk-container-id-3 div.sk-parallel-item {display: flex;flex-direction: column;z-index: 1;position: relative;background-color: white;}#sk-container-id-3 div.sk-parallel-item:first-child::after {align-self: flex-end;width: 50%;}#sk-container-id-3 div.sk-parallel-item:last-child::after {align-self: flex-start;width: 50%;}#sk-container-id-3 div.sk-parallel-item:only-child::after {width: 0;}#sk-container-id-3 div.sk-dashed-wrapped {border: 1px dashed gray;margin: 0 0.4em 0.5em 0.4em;box-sizing: border-box;padding-bottom: 0.4em;background-color: white;}#sk-container-id-3 div.sk-label label {font-family: monospace;font-weight: bold;display: inline-block;line-height: 1.2em;}#sk-container-id-3 div.sk-label-container {text-align: center;}#sk-container-id-3 div.sk-container {/* jupyter's `normalize.less` sets `[hidden] { display: none; }` but bootstrap.min.css set `[hidden] { display: none !important; }` so we also need the `!important` here to be able to override the default hidden behavior on the sphinx rendered scikit-learn.org. See: https://github.com/scikit-learn/scikit-learn/issues/21755 */display: inline-block !important;position: relative;}#sk-container-id-3 div.sk-text-repr-fallback {display: none;}</style><div id=\"sk-container-id-3\" class=\"sk-top-container\"><div class=\"sk-text-repr-fallback\"><pre>GridSearchCV(cv=StratifiedKFold(n_splits=5, random_state=None, shuffle=False),\n",
       "             estimator=Pipeline(steps=[(&#x27;preprocess&#x27;,\n",
       "                                        ColumnTransformer(remainder=&#x27;passthrough&#x27;,\n",
       "                                                          transformers=[(&#x27;onehot&#x27;,\n",
       "                                                                         OneHotEncoder(drop=&#x27;first&#x27;),\n",
       "                                                                         [&#x27;Agency &#x27;\n",
       "                                                                          &#x27;Type&#x27;,\n",
       "                                                                          &#x27;Gender&#x27;]),\n",
       "                                                                        (&#x27;binary&#x27;,\n",
       "                                                                         BinaryEncoder(),\n",
       "                                                                         [&#x27;Agency&#x27;,\n",
       "                                                                          &#x27;Product &#x27;\n",
       "                                                                          &#x27;Name&#x27;,\n",
       "                                                                          &#x27;Destination&#x27;])])),\n",
       "                                       (&#x27;model&#x27;, LogisticRegression())]),\n",
       "             n_jobs=-1,\n",
       "             param_grid={&#x27;model__C&#x27;: [0.1, 1.0, 10.0],\n",
       "                         &#x27;model__fit_intercept&#x27;: [True, False],\n",
       "                         &#x27;model__max_iter&#x27;: [100, 500],\n",
       "                         &#x27;model__multi_class&#x27;: [&#x27;auto&#x27;, &#x27;ovr&#x27;],\n",
       "                         &#x27;model__penalty&#x27;: [&#x27;l2&#x27;, &#x27;l1&#x27;, &#x27;elasticnet&#x27;],\n",
       "                         &#x27;model__solver&#x27;: [&#x27;lbfgs&#x27;, &#x27;sag&#x27;, &#x27;saga&#x27;]},\n",
       "             scoring=&#x27;precision&#x27;)</pre><b>In a Jupyter environment, please rerun this cell to show the HTML representation or trust the notebook. <br />On GitHub, the HTML representation is unable to render, please try loading this page with nbviewer.org.</b></div><div class=\"sk-container\" hidden><div class=\"sk-item sk-dashed-wrapped\"><div class=\"sk-label-container\"><div class=\"sk-label sk-toggleable\"><input class=\"sk-toggleable__control sk-hidden--visually\" id=\"sk-estimator-id-22\" type=\"checkbox\" ><label for=\"sk-estimator-id-22\" class=\"sk-toggleable__label sk-toggleable__label-arrow\">GridSearchCV</label><div class=\"sk-toggleable__content\"><pre>GridSearchCV(cv=StratifiedKFold(n_splits=5, random_state=None, shuffle=False),\n",
       "             estimator=Pipeline(steps=[(&#x27;preprocess&#x27;,\n",
       "                                        ColumnTransformer(remainder=&#x27;passthrough&#x27;,\n",
       "                                                          transformers=[(&#x27;onehot&#x27;,\n",
       "                                                                         OneHotEncoder(drop=&#x27;first&#x27;),\n",
       "                                                                         [&#x27;Agency &#x27;\n",
       "                                                                          &#x27;Type&#x27;,\n",
       "                                                                          &#x27;Gender&#x27;]),\n",
       "                                                                        (&#x27;binary&#x27;,\n",
       "                                                                         BinaryEncoder(),\n",
       "                                                                         [&#x27;Agency&#x27;,\n",
       "                                                                          &#x27;Product &#x27;\n",
       "                                                                          &#x27;Name&#x27;,\n",
       "                                                                          &#x27;Destination&#x27;])])),\n",
       "                                       (&#x27;model&#x27;, LogisticRegression())]),\n",
       "             n_jobs=-1,\n",
       "             param_grid={&#x27;model__C&#x27;: [0.1, 1.0, 10.0],\n",
       "                         &#x27;model__fit_intercept&#x27;: [True, False],\n",
       "                         &#x27;model__max_iter&#x27;: [100, 500],\n",
       "                         &#x27;model__multi_class&#x27;: [&#x27;auto&#x27;, &#x27;ovr&#x27;],\n",
       "                         &#x27;model__penalty&#x27;: [&#x27;l2&#x27;, &#x27;l1&#x27;, &#x27;elasticnet&#x27;],\n",
       "                         &#x27;model__solver&#x27;: [&#x27;lbfgs&#x27;, &#x27;sag&#x27;, &#x27;saga&#x27;]},\n",
       "             scoring=&#x27;precision&#x27;)</pre></div></div></div><div class=\"sk-parallel\"><div class=\"sk-parallel-item\"><div class=\"sk-item\"><div class=\"sk-label-container\"><div class=\"sk-label sk-toggleable\"><input class=\"sk-toggleable__control sk-hidden--visually\" id=\"sk-estimator-id-23\" type=\"checkbox\" ><label for=\"sk-estimator-id-23\" class=\"sk-toggleable__label sk-toggleable__label-arrow\">estimator: Pipeline</label><div class=\"sk-toggleable__content\"><pre>Pipeline(steps=[(&#x27;preprocess&#x27;,\n",
       "                 ColumnTransformer(remainder=&#x27;passthrough&#x27;,\n",
       "                                   transformers=[(&#x27;onehot&#x27;,\n",
       "                                                  OneHotEncoder(drop=&#x27;first&#x27;),\n",
       "                                                  [&#x27;Agency Type&#x27;, &#x27;Gender&#x27;]),\n",
       "                                                 (&#x27;binary&#x27;, BinaryEncoder(),\n",
       "                                                  [&#x27;Agency&#x27;, &#x27;Product Name&#x27;,\n",
       "                                                   &#x27;Destination&#x27;])])),\n",
       "                (&#x27;model&#x27;, LogisticRegression())])</pre></div></div></div><div class=\"sk-serial\"><div class=\"sk-item\"><div class=\"sk-serial\"><div class=\"sk-item sk-dashed-wrapped\"><div class=\"sk-label-container\"><div class=\"sk-label sk-toggleable\"><input class=\"sk-toggleable__control sk-hidden--visually\" id=\"sk-estimator-id-24\" type=\"checkbox\" ><label for=\"sk-estimator-id-24\" class=\"sk-toggleable__label sk-toggleable__label-arrow\">preprocess: ColumnTransformer</label><div class=\"sk-toggleable__content\"><pre>ColumnTransformer(remainder=&#x27;passthrough&#x27;,\n",
       "                  transformers=[(&#x27;onehot&#x27;, OneHotEncoder(drop=&#x27;first&#x27;),\n",
       "                                 [&#x27;Agency Type&#x27;, &#x27;Gender&#x27;]),\n",
       "                                (&#x27;binary&#x27;, BinaryEncoder(),\n",
       "                                 [&#x27;Agency&#x27;, &#x27;Product Name&#x27;, &#x27;Destination&#x27;])])</pre></div></div></div><div class=\"sk-parallel\"><div class=\"sk-parallel-item\"><div class=\"sk-item\"><div class=\"sk-label-container\"><div class=\"sk-label sk-toggleable\"><input class=\"sk-toggleable__control sk-hidden--visually\" id=\"sk-estimator-id-25\" type=\"checkbox\" ><label for=\"sk-estimator-id-25\" class=\"sk-toggleable__label sk-toggleable__label-arrow\">onehot</label><div class=\"sk-toggleable__content\"><pre>[&#x27;Agency Type&#x27;, &#x27;Gender&#x27;]</pre></div></div></div><div class=\"sk-serial\"><div class=\"sk-item\"><div class=\"sk-estimator sk-toggleable\"><input class=\"sk-toggleable__control sk-hidden--visually\" id=\"sk-estimator-id-26\" type=\"checkbox\" ><label for=\"sk-estimator-id-26\" class=\"sk-toggleable__label sk-toggleable__label-arrow\">OneHotEncoder</label><div class=\"sk-toggleable__content\"><pre>OneHotEncoder(drop=&#x27;first&#x27;)</pre></div></div></div></div></div></div><div class=\"sk-parallel-item\"><div class=\"sk-item\"><div class=\"sk-label-container\"><div class=\"sk-label sk-toggleable\"><input class=\"sk-toggleable__control sk-hidden--visually\" id=\"sk-estimator-id-27\" type=\"checkbox\" ><label for=\"sk-estimator-id-27\" class=\"sk-toggleable__label sk-toggleable__label-arrow\">binary</label><div class=\"sk-toggleable__content\"><pre>[&#x27;Agency&#x27;, &#x27;Product Name&#x27;, &#x27;Destination&#x27;]</pre></div></div></div><div class=\"sk-serial\"><div class=\"sk-item\"><div class=\"sk-estimator sk-toggleable\"><input class=\"sk-toggleable__control sk-hidden--visually\" id=\"sk-estimator-id-28\" type=\"checkbox\" ><label for=\"sk-estimator-id-28\" class=\"sk-toggleable__label sk-toggleable__label-arrow\">BinaryEncoder</label><div class=\"sk-toggleable__content\"><pre>BinaryEncoder()</pre></div></div></div></div></div></div><div class=\"sk-parallel-item\"><div class=\"sk-item\"><div class=\"sk-label-container\"><div class=\"sk-label sk-toggleable\"><input class=\"sk-toggleable__control sk-hidden--visually\" id=\"sk-estimator-id-29\" type=\"checkbox\" ><label for=\"sk-estimator-id-29\" class=\"sk-toggleable__label sk-toggleable__label-arrow\">remainder</label><div class=\"sk-toggleable__content\"><pre>[&#x27;Duration&#x27;, &#x27;Net Sales&#x27;, &#x27;Commision (in value)&#x27;, &#x27;Age&#x27;]</pre></div></div></div><div class=\"sk-serial\"><div class=\"sk-item\"><div class=\"sk-estimator sk-toggleable\"><input class=\"sk-toggleable__control sk-hidden--visually\" id=\"sk-estimator-id-30\" type=\"checkbox\" ><label for=\"sk-estimator-id-30\" class=\"sk-toggleable__label sk-toggleable__label-arrow\">passthrough</label><div class=\"sk-toggleable__content\"><pre>passthrough</pre></div></div></div></div></div></div></div></div><div class=\"sk-item\"><div class=\"sk-estimator sk-toggleable\"><input class=\"sk-toggleable__control sk-hidden--visually\" id=\"sk-estimator-id-31\" type=\"checkbox\" ><label for=\"sk-estimator-id-31\" class=\"sk-toggleable__label sk-toggleable__label-arrow\">LogisticRegression</label><div class=\"sk-toggleable__content\"><pre>LogisticRegression()</pre></div></div></div></div></div></div></div></div></div></div></div></div>"
      ],
      "text/plain": [
       "GridSearchCV(cv=StratifiedKFold(n_splits=5, random_state=None, shuffle=False),\n",
       "             estimator=Pipeline(steps=[('preprocess',\n",
       "                                        ColumnTransformer(remainder='passthrough',\n",
       "                                                          transformers=[('onehot',\n",
       "                                                                         OneHotEncoder(drop='first'),\n",
       "                                                                         ['Agency '\n",
       "                                                                          'Type',\n",
       "                                                                          'Gender']),\n",
       "                                                                        ('binary',\n",
       "                                                                         BinaryEncoder(),\n",
       "                                                                         ['Agency',\n",
       "                                                                          'Product '\n",
       "                                                                          'Name',\n",
       "                                                                          'Destination'])])),\n",
       "                                       ('model', LogisticRegression())]),\n",
       "             n_jobs=-1,\n",
       "             param_grid={'model__C': [0.1, 1.0, 10.0],\n",
       "                         'model__fit_intercept': [True, False],\n",
       "                         'model__max_iter': [100, 500],\n",
       "                         'model__multi_class': ['auto', 'ovr'],\n",
       "                         'model__penalty': ['l2', 'l1', 'elasticnet'],\n",
       "                         'model__solver': ['lbfgs', 'sag', 'saga']},\n",
       "             scoring='precision')"
      ]
     },
     "execution_count": 328,
     "metadata": {},
     "output_type": "execute_result"
    }
   ],
   "source": [
    "grid_search.fit(X_train_rus, y_train_rus)"
   ]
  },
  {
   "cell_type": "code",
   "execution_count": 329,
   "metadata": {},
   "outputs": [
    {
     "name": "stdout",
     "output_type": "stream",
     "text": [
      "best score 0.7912827162834477\n",
      "best param {'model__C': 0.1, 'model__fit_intercept': False, 'model__max_iter': 100, 'model__multi_class': 'auto', 'model__penalty': 'l2', 'model__solver': 'lbfgs'}\n"
     ]
    }
   ],
   "source": [
    "print('best score',grid_search.best_score_)\n",
    "print('best param',grid_search.best_params_)"
   ]
  },
  {
   "attachments": {},
   "cell_type": "markdown",
   "metadata": {},
   "source": [
    "Before Tuning:"
   ]
  },
  {
   "cell_type": "code",
   "execution_count": 330,
   "metadata": {},
   "outputs": [
    {
     "name": "stdout",
     "output_type": "stream",
     "text": [
      "              precision    recall  f1-score   support\n",
      "\n",
      "           0       0.77      0.80      0.78       135\n",
      "           1       0.79      0.76      0.77       136\n",
      "\n",
      "    accuracy                           0.78       271\n",
      "   macro avg       0.78      0.78      0.78       271\n",
      "weighted avg       0.78      0.78      0.78       271\n",
      "\n"
     ]
    }
   ],
   "source": [
    "model = LogisticRegression()\n",
    "\n",
    "estimator = Pipeline([('preprocess', transformer), ('model', model)])\n",
    "\n",
    "estimator.fit(X_train_rus, y_train_rus)\n",
    "y_pred_rus = estimator.predict(X_test_rus)\n",
    "\n",
    "print(classification_report(y_test_rus, y_pred_rus))"
   ]
  },
  {
   "attachments": {},
   "cell_type": "markdown",
   "metadata": {},
   "source": [
    "After Tuning:"
   ]
  },
  {
   "cell_type": "code",
   "execution_count": 331,
   "metadata": {},
   "outputs": [
    {
     "name": "stdout",
     "output_type": "stream",
     "text": [
      "              precision    recall  f1-score   support\n",
      "\n",
      "           0       0.78      0.82      0.80       135\n",
      "           1       0.81      0.77      0.79       136\n",
      "\n",
      "    accuracy                           0.80       271\n",
      "   macro avg       0.80      0.80      0.80       271\n",
      "weighted avg       0.80      0.80      0.80       271\n",
      "\n"
     ]
    }
   ],
   "source": [
    "grid_search.best_estimator_.fit(X_train_rus, y_train_rus)\n",
    "y_pred_rus = grid_search.best_estimator_.predict(X_test_rus)\n",
    "\n",
    "print(classification_report(y_test_rus, y_pred_rus))"
   ]
  },
  {
   "attachments": {},
   "cell_type": "markdown",
   "metadata": {},
   "source": [
    "For a balanced dataset with random under sampling and tuning, the precision score for logistic regression increased by 2%."
   ]
  },
  {
   "attachments": {},
   "cell_type": "markdown",
   "metadata": {},
   "source": [
    "## Conclusion & Recommendation"
   ]
  },
  {
   "cell_type": "code",
   "execution_count": 332,
   "metadata": {},
   "outputs": [
    {
     "data": {
      "text/html": [
       "<div>\n",
       "<style scoped>\n",
       "    .dataframe tbody tr th:only-of-type {\n",
       "        vertical-align: middle;\n",
       "    }\n",
       "\n",
       "    .dataframe tbody tr th {\n",
       "        vertical-align: top;\n",
       "    }\n",
       "\n",
       "    .dataframe thead th {\n",
       "        text-align: right;\n",
       "    }\n",
       "</style>\n",
       "<table border=\"1\" class=\"dataframe\">\n",
       "  <thead>\n",
       "    <tr style=\"text-align: right;\">\n",
       "      <th></th>\n",
       "      <th>mean precision</th>\n",
       "      <th>std</th>\n",
       "    </tr>\n",
       "    <tr>\n",
       "      <th>model</th>\n",
       "      <th></th>\n",
       "      <th></th>\n",
       "    </tr>\n",
       "  </thead>\n",
       "  <tbody>\n",
       "    <tr>\n",
       "      <th>Random Forest</th>\n",
       "      <td>0.105035</td>\n",
       "      <td>0.060753</td>\n",
       "    </tr>\n",
       "    <tr>\n",
       "      <th>Decision Tree</th>\n",
       "      <td>0.049652</td>\n",
       "      <td>0.010320</td>\n",
       "    </tr>\n",
       "    <tr>\n",
       "      <th>KNN</th>\n",
       "      <td>0.028571</td>\n",
       "      <td>0.057143</td>\n",
       "    </tr>\n",
       "    <tr>\n",
       "      <th>Logistic Regression</th>\n",
       "      <td>0.000000</td>\n",
       "      <td>0.000000</td>\n",
       "    </tr>\n",
       "  </tbody>\n",
       "</table>\n",
       "</div>"
      ],
      "text/plain": [
       "                     mean precision       std\n",
       "model                                        \n",
       "Random Forest        0.105035        0.060753\n",
       "Decision Tree        0.049652        0.010320\n",
       "KNN                  0.028571        0.057143\n",
       "Logistic Regression  0.000000        0.000000"
      ]
     },
     "execution_count": 332,
     "metadata": {},
     "output_type": "execute_result"
    }
   ],
   "source": [
    "precision_before_tuning"
   ]
  },
  {
   "attachments": {},
   "cell_type": "markdown",
   "metadata": {},
   "source": [
    "In conclusion since the dataset only has 2% historical data of policyholders who claimed an insurance. For our model goals to reduce the false positive rate by seeing the mean precision above the model performance is very poor with Random Forest algorithm the best algorithm but only at 10% mean precision score."
   ]
  },
  {
   "cell_type": "code",
   "execution_count": 333,
   "metadata": {},
   "outputs": [
    {
     "data": {
      "text/html": [
       "<div>\n",
       "<style scoped>\n",
       "    .dataframe tbody tr th:only-of-type {\n",
       "        vertical-align: middle;\n",
       "    }\n",
       "\n",
       "    .dataframe tbody tr th {\n",
       "        vertical-align: top;\n",
       "    }\n",
       "\n",
       "    .dataframe thead th {\n",
       "        text-align: right;\n",
       "    }\n",
       "</style>\n",
       "<table border=\"1\" class=\"dataframe\">\n",
       "  <thead>\n",
       "    <tr style=\"text-align: right;\">\n",
       "      <th></th>\n",
       "      <th>mean precision</th>\n",
       "      <th>std</th>\n",
       "    </tr>\n",
       "    <tr>\n",
       "      <th>model</th>\n",
       "      <th></th>\n",
       "      <th></th>\n",
       "    </tr>\n",
       "  </thead>\n",
       "  <tbody>\n",
       "    <tr>\n",
       "      <th>Logistic Regression</th>\n",
       "      <td>0.782064</td>\n",
       "      <td>0.045056</td>\n",
       "    </tr>\n",
       "    <tr>\n",
       "      <th>Random Forest</th>\n",
       "      <td>0.737473</td>\n",
       "      <td>0.034048</td>\n",
       "    </tr>\n",
       "    <tr>\n",
       "      <th>Decision Tree</th>\n",
       "      <td>0.664871</td>\n",
       "      <td>0.029621</td>\n",
       "    </tr>\n",
       "    <tr>\n",
       "      <th>KNN</th>\n",
       "      <td>0.653388</td>\n",
       "      <td>0.029955</td>\n",
       "    </tr>\n",
       "  </tbody>\n",
       "</table>\n",
       "</div>"
      ],
      "text/plain": [
       "                     mean precision       std\n",
       "model                                        \n",
       "Logistic Regression  0.782064        0.045056\n",
       "Random Forest        0.737473        0.034048\n",
       "Decision Tree        0.664871        0.029621\n",
       "KNN                  0.653388        0.029955"
      ]
     },
     "execution_count": 333,
     "metadata": {},
     "output_type": "execute_result"
    }
   ],
   "source": [
    "precision_before_tuning_rus"
   ]
  },
  {
   "cell_type": "code",
   "execution_count": 334,
   "metadata": {},
   "outputs": [
    {
     "data": {
      "text/html": [
       "<div>\n",
       "<style scoped>\n",
       "    .dataframe tbody tr th:only-of-type {\n",
       "        vertical-align: middle;\n",
       "    }\n",
       "\n",
       "    .dataframe tbody tr th {\n",
       "        vertical-align: top;\n",
       "    }\n",
       "\n",
       "    .dataframe thead th {\n",
       "        text-align: right;\n",
       "    }\n",
       "</style>\n",
       "<table border=\"1\" class=\"dataframe\">\n",
       "  <thead>\n",
       "    <tr style=\"text-align: right;\">\n",
       "      <th></th>\n",
       "      <th>mean precision</th>\n",
       "      <th>std</th>\n",
       "    </tr>\n",
       "    <tr>\n",
       "      <th>model</th>\n",
       "      <th></th>\n",
       "      <th></th>\n",
       "    </tr>\n",
       "  </thead>\n",
       "  <tbody>\n",
       "    <tr>\n",
       "      <th>Random Forest</th>\n",
       "      <td>0.987083</td>\n",
       "      <td>0.001086</td>\n",
       "    </tr>\n",
       "    <tr>\n",
       "      <th>Decision Tree</th>\n",
       "      <td>0.978540</td>\n",
       "      <td>0.002374</td>\n",
       "    </tr>\n",
       "    <tr>\n",
       "      <th>KNN</th>\n",
       "      <td>0.936625</td>\n",
       "      <td>0.002459</td>\n",
       "    </tr>\n",
       "    <tr>\n",
       "      <th>Logistic Regression</th>\n",
       "      <td>0.786104</td>\n",
       "      <td>0.004258</td>\n",
       "    </tr>\n",
       "  </tbody>\n",
       "</table>\n",
       "</div>"
      ],
      "text/plain": [
       "                     mean precision       std\n",
       "model                                        \n",
       "Random Forest        0.987083        0.001086\n",
       "Decision Tree        0.978540        0.002374\n",
       "KNN                  0.936625        0.002459\n",
       "Logistic Regression  0.786104        0.004258"
      ]
     },
     "execution_count": 334,
     "metadata": {},
     "output_type": "execute_result"
    }
   ],
   "source": [
    "precision_before_tuning_ros"
   ]
  },
  {
   "attachments": {},
   "cell_type": "markdown",
   "metadata": {},
   "source": [
    "However if we were to balanced the minority class and majority class, it can be seen that there is a significant amount of score jump. For our goals we would be then based on the model from data that has gone random undersampling treatment as the minority class is based on \"real\" historical data and not a made up data. Next, the best algorithm to be chosen would be Logistic Regression."
   ]
  },
  {
   "cell_type": "code",
   "execution_count": 336,
   "metadata": {},
   "outputs": [
    {
     "name": "stdout",
     "output_type": "stream",
     "text": [
      "              precision    recall  f1-score   support\n",
      "\n",
      "           0       0.78      0.82      0.80       135\n",
      "           1       0.81      0.77      0.79       136\n",
      "\n",
      "    accuracy                           0.80       271\n",
      "   macro avg       0.80      0.80      0.80       271\n",
      "weighted avg       0.80      0.80      0.80       271\n",
      "\n"
     ]
    }
   ],
   "source": [
    "print(classification_report(y_test_rus, y_pred_rus))"
   ]
  },
  {
   "attachments": {},
   "cell_type": "markdown",
   "metadata": {},
   "source": [
    "After tuning it can be seen that the precision score for our positive class increases by 2%. So our model with Logistic Regression after it is tuned can reduce the false positive rate. Which can help the company to predict policyholders who will more likely to make a claim in  the future."
   ]
  },
  {
   "attachments": {},
   "cell_type": "markdown",
   "metadata": {},
   "source": [
    "It can be then recommended that this data needs to have more policyholders who claimed. Our goal in predicting 'claim' was very poor until the dataset was given a random sampling treatment."
   ]
  },
  {
   "attachments": {},
   "cell_type": "markdown",
   "metadata": {},
   "source": [
    "Thank You."
   ]
  }
 ],
 "metadata": {
  "kernelspec": {
   "display_name": "base",
   "language": "python",
   "name": "python3"
  },
  "language_info": {
   "codemirror_mode": {
    "name": "ipython",
    "version": 3
   },
   "file_extension": ".py",
   "mimetype": "text/x-python",
   "name": "python",
   "nbconvert_exporter": "python",
   "pygments_lexer": "ipython3",
   "version": "3.9.12"
  },
  "orig_nbformat": 4,
  "vscode": {
   "interpreter": {
    "hash": "a077222d77dfe082b8f1dd562ad70e458ac2ab76993a0b248ab0476e32e9e8dd"
   }
  }
 },
 "nbformat": 4,
 "nbformat_minor": 2
}
